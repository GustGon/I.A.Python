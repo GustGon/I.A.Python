{
  "nbformat": 4,
  "nbformat_minor": 0,
  "metadata": {
    "colab": {
      "name": "Analise_Sentimento.ipynb",
      "provenance": [],
      "collapsed_sections": [],
      "machine_shape": "hm",
      "include_colab_link": true
    },
    "kernelspec": {
      "name": "python3",
      "display_name": "Python 3"
    },
    "accelerator": "GPU"
  },
  "cells": [
    {
      "cell_type": "markdown",
      "metadata": {
        "id": "view-in-github",
        "colab_type": "text"
      },
      "source": [
        "<a href=\"https://colab.research.google.com/github/GustGon/I.A.Python/blob/master/neural-network/nn-recurrent/Analise_Sentimento.ipynb\" target=\"_parent\"><img src=\"https://colab.research.google.com/assets/colab-badge.svg\" alt=\"Open In Colab\"/></a>"
      ]
    },
    {
      "cell_type": "markdown",
      "metadata": {
        "colab_type": "text",
        "id": "CcYDMN87Oknx"
      },
      "source": [
        "###Importação das libs"
      ]
    },
    {
      "cell_type": "code",
      "metadata": {
        "colab_type": "code",
        "outputId": "cccee34f-3fc3-45f1-dd18-1ea740d75c6f",
        "id": "77jfGlj3Okny",
        "colab": {
          "base_uri": "https://localhost:8080/",
          "height": 51
        }
      },
      "source": [
        "try:\n",
        "  # %tensorflow_version only exists in Colab.\n",
        "  %tensorflow_version 2.x\n",
        "except Exception:\n",
        "  pass\n",
        "# TensorFlow e tf.keras\n",
        "\n",
        "import tensorflow as tf\n",
        "from tensorflow import keras\n",
        "from tensorflow.keras import layers, Sequential\n",
        "print(tf.__version__)"
      ],
      "execution_count": 0,
      "outputs": [
        {
          "output_type": "stream",
          "text": [
            "TensorFlow 2.x selected.\n",
            "2.0.0\n"
          ],
          "name": "stdout"
        }
      ]
    },
    {
      "cell_type": "code",
      "metadata": {
        "colab_type": "code",
        "outputId": "c1fd3bb6-dea9-4beb-f407-e1e9fa1b6642",
        "id": "drHq2WZtOkoL",
        "colab": {
          "base_uri": "https://localhost:8080/",
          "height": 122
        }
      },
      "source": [
        "from google.colab import drive\n",
        "drive.mount('/content/drive')"
      ],
      "execution_count": 0,
      "outputs": [
        {
          "output_type": "stream",
          "text": [
            "Go to this URL in a browser: https://accounts.google.com/o/oauth2/auth?client_id=947318989803-6bn6qk8qdgf4n4g3pfee6491hc0brc4i.apps.googleusercontent.com&redirect_uri=urn%3aietf%3awg%3aoauth%3a2.0%3aoob&response_type=code&scope=email%20https%3a%2f%2fwww.googleapis.com%2fauth%2fdocs.test%20https%3a%2f%2fwww.googleapis.com%2fauth%2fdrive%20https%3a%2f%2fwww.googleapis.com%2fauth%2fdrive.photos.readonly%20https%3a%2f%2fwww.googleapis.com%2fauth%2fpeopleapi.readonly\n",
            "\n",
            "Enter your authorization code:\n",
            "··········\n",
            "Mounted at /content/drive\n"
          ],
          "name": "stdout"
        }
      ]
    },
    {
      "cell_type": "code",
      "metadata": {
        "id": "JjA5nugkO5f_",
        "colab_type": "code",
        "outputId": "13081331-b3b0-4ef2-a41b-8e0f04200915",
        "colab": {
          "base_uri": "https://localhost:8080/",
          "height": 799
        }
      },
      "source": [
        "import nltk\n",
        "nltk.download(\"popular\")\n",
        "import re\n",
        "import pandas as pd\n",
        "from sklearn.feature_extraction.text import CountVectorizer\n",
        "from sklearn.naive_bayes import MultinomialNB\n",
        "from sklearn import metrics\n",
        "from sklearn.model_selection import cross_val_predict"
      ],
      "execution_count": 0,
      "outputs": [
        {
          "output_type": "stream",
          "text": [
            "[nltk_data] Downloading collection 'popular'\n",
            "[nltk_data]    | \n",
            "[nltk_data]    | Downloading package cmudict to /root/nltk_data...\n",
            "[nltk_data]    |   Unzipping corpora/cmudict.zip.\n",
            "[nltk_data]    | Downloading package gazetteers to /root/nltk_data...\n",
            "[nltk_data]    |   Unzipping corpora/gazetteers.zip.\n",
            "[nltk_data]    | Downloading package genesis to /root/nltk_data...\n",
            "[nltk_data]    |   Unzipping corpora/genesis.zip.\n",
            "[nltk_data]    | Downloading package gutenberg to /root/nltk_data...\n",
            "[nltk_data]    |   Unzipping corpora/gutenberg.zip.\n",
            "[nltk_data]    | Downloading package inaugural to /root/nltk_data...\n",
            "[nltk_data]    |   Unzipping corpora/inaugural.zip.\n",
            "[nltk_data]    | Downloading package movie_reviews to\n",
            "[nltk_data]    |     /root/nltk_data...\n",
            "[nltk_data]    |   Unzipping corpora/movie_reviews.zip.\n",
            "[nltk_data]    | Downloading package names to /root/nltk_data...\n",
            "[nltk_data]    |   Unzipping corpora/names.zip.\n",
            "[nltk_data]    | Downloading package shakespeare to /root/nltk_data...\n",
            "[nltk_data]    |   Unzipping corpora/shakespeare.zip.\n",
            "[nltk_data]    | Downloading package stopwords to /root/nltk_data...\n",
            "[nltk_data]    |   Unzipping corpora/stopwords.zip.\n",
            "[nltk_data]    | Downloading package treebank to /root/nltk_data...\n",
            "[nltk_data]    |   Unzipping corpora/treebank.zip.\n",
            "[nltk_data]    | Downloading package twitter_samples to\n",
            "[nltk_data]    |     /root/nltk_data...\n",
            "[nltk_data]    |   Unzipping corpora/twitter_samples.zip.\n",
            "[nltk_data]    | Downloading package omw to /root/nltk_data...\n",
            "[nltk_data]    |   Unzipping corpora/omw.zip.\n",
            "[nltk_data]    | Downloading package wordnet to /root/nltk_data...\n",
            "[nltk_data]    |   Unzipping corpora/wordnet.zip.\n",
            "[nltk_data]    | Downloading package wordnet_ic to /root/nltk_data...\n",
            "[nltk_data]    |   Unzipping corpora/wordnet_ic.zip.\n",
            "[nltk_data]    | Downloading package words to /root/nltk_data...\n",
            "[nltk_data]    |   Unzipping corpora/words.zip.\n",
            "[nltk_data]    | Downloading package maxent_ne_chunker to\n",
            "[nltk_data]    |     /root/nltk_data...\n",
            "[nltk_data]    |   Unzipping chunkers/maxent_ne_chunker.zip.\n",
            "[nltk_data]    | Downloading package punkt to /root/nltk_data...\n",
            "[nltk_data]    |   Unzipping tokenizers/punkt.zip.\n",
            "[nltk_data]    | Downloading package snowball_data to\n",
            "[nltk_data]    |     /root/nltk_data...\n",
            "[nltk_data]    | Downloading package averaged_perceptron_tagger to\n",
            "[nltk_data]    |     /root/nltk_data...\n",
            "[nltk_data]    |   Unzipping taggers/averaged_perceptron_tagger.zip.\n",
            "[nltk_data]    | \n",
            "[nltk_data]  Done downloading collection popular\n"
          ],
          "name": "stdout"
        }
      ]
    },
    {
      "cell_type": "code",
      "metadata": {
        "id": "_S3J0n8EOqPv",
        "colab_type": "code",
        "colab": {}
      },
      "source": [
        "import re\n",
        "def remove_href(text):\n",
        "  return re.sub(r\"http\\S+\", \"\", text)\n",
        "\n",
        "def remove_emoji(string):\n",
        "    emoji_pattern = re.compile(\"[\"\n",
        "                           u\"\\U0001F600-\\U0001F64F\"  # emoticons\n",
        "                           u\"\\U0001F300-\\U0001F5FF\"  # symbols & pictographs\n",
        "                           u\"\\U0001F680-\\U0001F6FF\"  # transport & map symbols\n",
        "                           u\"\\U0001F1E0-\\U0001F1FF\"  # flags (iOS)\n",
        "                           u\"\\U00002702-\\U000027B0\"\n",
        "                           u\"\\U000024C2-\\U0001F251\"\n",
        "                           \"]+\", flags=re.UNICODE)\n",
        "    return emoji_pattern.sub(r'', string)  \n",
        "\n",
        "def removerAcentosECaracteresEspeciais(palavra):\n",
        "\n",
        "    # Unicode normalize transforma um caracter em seu equivalente em latin.\n",
        "    nfkd = unicodedata.normalize('NFKD', palavra)\n",
        "    palavraSemAcento = u\"\".join([c for c in nfkd if not unicodedata.combining(c)])\n",
        "\n",
        "    # Usa expressão regular para retornar a palavra apenas com números, letras e espaço\n",
        "    return re.sub('[^a-zA-Z0-9 \\\\\\]', '', palavraSemAcento)"
      ],
      "execution_count": 0,
      "outputs": []
    },
    {
      "cell_type": "code",
      "metadata": {
        "id": "GIA05uqaPoQu",
        "colab_type": "code",
        "outputId": "60d971ea-b653-441d-c3fa-ae6bafdea80e",
        "colab": {
          "base_uri": "https://localhost:8080/",
          "height": 102
        }
      },
      "source": [
        "#Carregar dataset\n",
        "dataset = pd.read_csv('/content/drive/My Drive/data-set/imdb-reviews-pt-br.csv',encoding='utf-8')\n",
        "dataset.count()"
      ],
      "execution_count": 0,
      "outputs": [
        {
          "output_type": "execute_result",
          "data": {
            "text/plain": [
              "id           49459\n",
              "text_en      49459\n",
              "text_pt      49459\n",
              "sentiment    49459\n",
              "dtype: int64"
            ]
          },
          "metadata": {
            "tags": []
          },
          "execution_count": 5
        }
      ]
    },
    {
      "cell_type": "code",
      "metadata": {
        "id": "d9yHu2xYRbS9",
        "colab_type": "code",
        "outputId": "d0d8245a-3736-436a-be13-58906aa3f78a",
        "colab": {
          "base_uri": "https://localhost:8080/",
          "height": 204
        }
      },
      "source": [
        "dataset.head()"
      ],
      "execution_count": 0,
      "outputs": [
        {
          "output_type": "execute_result",
          "data": {
            "text/html": [
              "<div>\n",
              "<style scoped>\n",
              "    .dataframe tbody tr th:only-of-type {\n",
              "        vertical-align: middle;\n",
              "    }\n",
              "\n",
              "    .dataframe tbody tr th {\n",
              "        vertical-align: top;\n",
              "    }\n",
              "\n",
              "    .dataframe thead th {\n",
              "        text-align: right;\n",
              "    }\n",
              "</style>\n",
              "<table border=\"1\" class=\"dataframe\">\n",
              "  <thead>\n",
              "    <tr style=\"text-align: right;\">\n",
              "      <th></th>\n",
              "      <th>id</th>\n",
              "      <th>text_en</th>\n",
              "      <th>text_pt</th>\n",
              "      <th>sentiment</th>\n",
              "    </tr>\n",
              "  </thead>\n",
              "  <tbody>\n",
              "    <tr>\n",
              "      <th>0</th>\n",
              "      <td>1</td>\n",
              "      <td>Once again Mr. Costner has dragged out a movie...</td>\n",
              "      <td>Mais uma vez, o Sr. Costner arrumou um filme p...</td>\n",
              "      <td>neg</td>\n",
              "    </tr>\n",
              "    <tr>\n",
              "      <th>1</th>\n",
              "      <td>2</td>\n",
              "      <td>This is an example of why the majority of acti...</td>\n",
              "      <td>Este é um exemplo do motivo pelo qual a maiori...</td>\n",
              "      <td>neg</td>\n",
              "    </tr>\n",
              "    <tr>\n",
              "      <th>2</th>\n",
              "      <td>3</td>\n",
              "      <td>First of all I hate those moronic rappers, who...</td>\n",
              "      <td>Primeiro de tudo eu odeio esses raps imbecis, ...</td>\n",
              "      <td>neg</td>\n",
              "    </tr>\n",
              "    <tr>\n",
              "      <th>3</th>\n",
              "      <td>4</td>\n",
              "      <td>Not even the Beatles could write songs everyon...</td>\n",
              "      <td>Nem mesmo os Beatles puderam escrever músicas ...</td>\n",
              "      <td>neg</td>\n",
              "    </tr>\n",
              "    <tr>\n",
              "      <th>4</th>\n",
              "      <td>5</td>\n",
              "      <td>Brass pictures movies is not a fitting word fo...</td>\n",
              "      <td>Filmes de fotos de latão não é uma palavra apr...</td>\n",
              "      <td>neg</td>\n",
              "    </tr>\n",
              "  </tbody>\n",
              "</table>\n",
              "</div>"
            ],
            "text/plain": [
              "   id  ... sentiment\n",
              "0   1  ...       neg\n",
              "1   2  ...       neg\n",
              "2   3  ...       neg\n",
              "3   4  ...       neg\n",
              "4   5  ...       neg\n",
              "\n",
              "[5 rows x 4 columns]"
            ]
          },
          "metadata": {
            "tags": []
          },
          "execution_count": 6
        }
      ]
    },
    {
      "cell_type": "code",
      "metadata": {
        "id": "9aIlO6sZR84C",
        "colab_type": "code",
        "outputId": "6aa51a20-e765-4037-ebd0-7190fb2bbffe",
        "colab": {
          "base_uri": "https://localhost:8080/",
          "height": 204
        }
      },
      "source": [
        "df_pt = dataset[['text_pt', 'sentiment']]\n",
        "df_pt.head()"
      ],
      "execution_count": 0,
      "outputs": [
        {
          "output_type": "execute_result",
          "data": {
            "text/html": [
              "<div>\n",
              "<style scoped>\n",
              "    .dataframe tbody tr th:only-of-type {\n",
              "        vertical-align: middle;\n",
              "    }\n",
              "\n",
              "    .dataframe tbody tr th {\n",
              "        vertical-align: top;\n",
              "    }\n",
              "\n",
              "    .dataframe thead th {\n",
              "        text-align: right;\n",
              "    }\n",
              "</style>\n",
              "<table border=\"1\" class=\"dataframe\">\n",
              "  <thead>\n",
              "    <tr style=\"text-align: right;\">\n",
              "      <th></th>\n",
              "      <th>text_pt</th>\n",
              "      <th>sentiment</th>\n",
              "    </tr>\n",
              "  </thead>\n",
              "  <tbody>\n",
              "    <tr>\n",
              "      <th>0</th>\n",
              "      <td>Mais uma vez, o Sr. Costner arrumou um filme p...</td>\n",
              "      <td>neg</td>\n",
              "    </tr>\n",
              "    <tr>\n",
              "      <th>1</th>\n",
              "      <td>Este é um exemplo do motivo pelo qual a maiori...</td>\n",
              "      <td>neg</td>\n",
              "    </tr>\n",
              "    <tr>\n",
              "      <th>2</th>\n",
              "      <td>Primeiro de tudo eu odeio esses raps imbecis, ...</td>\n",
              "      <td>neg</td>\n",
              "    </tr>\n",
              "    <tr>\n",
              "      <th>3</th>\n",
              "      <td>Nem mesmo os Beatles puderam escrever músicas ...</td>\n",
              "      <td>neg</td>\n",
              "    </tr>\n",
              "    <tr>\n",
              "      <th>4</th>\n",
              "      <td>Filmes de fotos de latão não é uma palavra apr...</td>\n",
              "      <td>neg</td>\n",
              "    </tr>\n",
              "  </tbody>\n",
              "</table>\n",
              "</div>"
            ],
            "text/plain": [
              "                                             text_pt sentiment\n",
              "0  Mais uma vez, o Sr. Costner arrumou um filme p...       neg\n",
              "1  Este é um exemplo do motivo pelo qual a maiori...       neg\n",
              "2  Primeiro de tudo eu odeio esses raps imbecis, ...       neg\n",
              "3  Nem mesmo os Beatles puderam escrever músicas ...       neg\n",
              "4  Filmes de fotos de latão não é uma palavra apr...       neg"
            ]
          },
          "metadata": {
            "tags": []
          },
          "execution_count": 7
        }
      ]
    },
    {
      "cell_type": "markdown",
      "metadata": {
        "id": "DVZVAW1mUtXz",
        "colab_type": "text"
      },
      "source": [
        ".apply executa uma função iterativamente em todos os elementos do data frame"
      ]
    },
    {
      "cell_type": "code",
      "metadata": {
        "id": "JAU267d0Thbw",
        "colab_type": "code",
        "outputId": "13e6083e-95ee-43ec-b3c9-f172b4379969",
        "colab": {
          "base_uri": "https://localhost:8080/",
          "height": 119
        }
      },
      "source": [
        "df_pt.text_pt = df_pt.text_pt.apply( remove_href ).apply( remove_emoji )"
      ],
      "execution_count": 0,
      "outputs": [
        {
          "output_type": "stream",
          "text": [
            "/usr/local/lib/python3.6/dist-packages/pandas/core/generic.py:5208: SettingWithCopyWarning: \n",
            "A value is trying to be set on a copy of a slice from a DataFrame.\n",
            "Try using .loc[row_indexer,col_indexer] = value instead\n",
            "\n",
            "See the caveats in the documentation: http://pandas.pydata.org/pandas-docs/stable/user_guide/indexing.html#returning-a-view-versus-a-copy\n",
            "  self[name] = value\n"
          ],
          "name": "stderr"
        }
      ]
    },
    {
      "cell_type": "markdown",
      "metadata": {
        "id": "9Ff7mXccUtYE",
        "colab_type": "text"
      },
      "source": [
        "Aplicação da tecnica de remoçao de Stop Words."
      ]
    },
    {
      "cell_type": "code",
      "metadata": {
        "id": "Ribacb-R89qF",
        "colab_type": "code",
        "outputId": "e2bfc121-3347-4159-9cc3-13d66ff997c7",
        "colab": {
          "base_uri": "https://localhost:8080/",
          "height": 343
        }
      },
      "source": [
        "stop_words = nltk.corpus.stopwords.words('portuguese')\n",
        "new_stop_words = [',', '.', '...', '-']\n",
        "stop_words.extend(new_stop_words)\n",
        "df_pt.text_pt = df_pt.text_pt.apply( lambda x:' '.join( [item for item in x.split() if item not in stop_words] ) )\n",
        "### ' '.join mantem o dataframe como string e nao como uma lista que da o erro  de 'list' object has no attribute 'lower' quando vai dar o fit_transform\n",
        "print(stop_words)\n",
        "df_pt.head()"
      ],
      "execution_count": 0,
      "outputs": [
        {
          "output_type": "stream",
          "text": [
            "['de', 'a', 'o', 'que', 'e', 'é', 'do', 'da', 'em', 'um', 'para', 'com', 'não', 'uma', 'os', 'no', 'se', 'na', 'por', 'mais', 'as', 'dos', 'como', 'mas', 'ao', 'ele', 'das', 'à', 'seu', 'sua', 'ou', 'quando', 'muito', 'nos', 'já', 'eu', 'também', 'só', 'pelo', 'pela', 'até', 'isso', 'ela', 'entre', 'depois', 'sem', 'mesmo', 'aos', 'seus', 'quem', 'nas', 'me', 'esse', 'eles', 'você', 'essa', 'num', 'nem', 'suas', 'meu', 'às', 'minha', 'numa', 'pelos', 'elas', 'qual', 'nós', 'lhe', 'deles', 'essas', 'esses', 'pelas', 'este', 'dele', 'tu', 'te', 'vocês', 'vos', 'lhes', 'meus', 'minhas', 'teu', 'tua', 'teus', 'tuas', 'nosso', 'nossa', 'nossos', 'nossas', 'dela', 'delas', 'esta', 'estes', 'estas', 'aquele', 'aquela', 'aqueles', 'aquelas', 'isto', 'aquilo', 'estou', 'está', 'estamos', 'estão', 'estive', 'esteve', 'estivemos', 'estiveram', 'estava', 'estávamos', 'estavam', 'estivera', 'estivéramos', 'esteja', 'estejamos', 'estejam', 'estivesse', 'estivéssemos', 'estivessem', 'estiver', 'estivermos', 'estiverem', 'hei', 'há', 'havemos', 'hão', 'houve', 'houvemos', 'houveram', 'houvera', 'houvéramos', 'haja', 'hajamos', 'hajam', 'houvesse', 'houvéssemos', 'houvessem', 'houver', 'houvermos', 'houverem', 'houverei', 'houverá', 'houveremos', 'houverão', 'houveria', 'houveríamos', 'houveriam', 'sou', 'somos', 'são', 'era', 'éramos', 'eram', 'fui', 'foi', 'fomos', 'foram', 'fora', 'fôramos', 'seja', 'sejamos', 'sejam', 'fosse', 'fôssemos', 'fossem', 'for', 'formos', 'forem', 'serei', 'será', 'seremos', 'serão', 'seria', 'seríamos', 'seriam', 'tenho', 'tem', 'temos', 'tém', 'tinha', 'tínhamos', 'tinham', 'tive', 'teve', 'tivemos', 'tiveram', 'tivera', 'tivéramos', 'tenha', 'tenhamos', 'tenham', 'tivesse', 'tivéssemos', 'tivessem', 'tiver', 'tivermos', 'tiverem', 'terei', 'terá', 'teremos', 'terão', 'teria', 'teríamos', 'teriam', ',', '.', '...', '-']\n"
          ],
          "name": "stdout"
        },
        {
          "output_type": "stream",
          "text": [
            "/usr/local/lib/python3.6/dist-packages/pandas/core/generic.py:5208: SettingWithCopyWarning: \n",
            "A value is trying to be set on a copy of a slice from a DataFrame.\n",
            "Try using .loc[row_indexer,col_indexer] = value instead\n",
            "\n",
            "See the caveats in the documentation: http://pandas.pydata.org/pandas-docs/stable/user_guide/indexing.html#returning-a-view-versus-a-copy\n",
            "  self[name] = value\n"
          ],
          "name": "stderr"
        },
        {
          "output_type": "execute_result",
          "data": {
            "text/html": [
              "<div>\n",
              "<style scoped>\n",
              "    .dataframe tbody tr th:only-of-type {\n",
              "        vertical-align: middle;\n",
              "    }\n",
              "\n",
              "    .dataframe tbody tr th {\n",
              "        vertical-align: top;\n",
              "    }\n",
              "\n",
              "    .dataframe thead th {\n",
              "        text-align: right;\n",
              "    }\n",
              "</style>\n",
              "<table border=\"1\" class=\"dataframe\">\n",
              "  <thead>\n",
              "    <tr style=\"text-align: right;\">\n",
              "      <th></th>\n",
              "      <th>text_pt</th>\n",
              "      <th>sentiment</th>\n",
              "    </tr>\n",
              "  </thead>\n",
              "  <tbody>\n",
              "    <tr>\n",
              "      <th>0</th>\n",
              "      <td>Mais vez, Sr. Costner arrumou filme tempo nece...</td>\n",
              "      <td>neg</td>\n",
              "    </tr>\n",
              "    <tr>\n",
              "      <th>1</th>\n",
              "      <td>Este exemplo motivo maioria filmes ação mesmos...</td>\n",
              "      <td>neg</td>\n",
              "    </tr>\n",
              "    <tr>\n",
              "      <th>2</th>\n",
              "      <td>Primeiro tudo odeio raps imbecis, poderiam agi...</td>\n",
              "      <td>neg</td>\n",
              "    </tr>\n",
              "    <tr>\n",
              "      <th>3</th>\n",
              "      <td>Nem Beatles puderam escrever músicas todos gos...</td>\n",
              "      <td>neg</td>\n",
              "    </tr>\n",
              "    <tr>\n",
              "      <th>4</th>\n",
              "      <td>Filmes fotos latão palavra apropriada eles, ve...</td>\n",
              "      <td>neg</td>\n",
              "    </tr>\n",
              "  </tbody>\n",
              "</table>\n",
              "</div>"
            ],
            "text/plain": [
              "                                             text_pt sentiment\n",
              "0  Mais vez, Sr. Costner arrumou filme tempo nece...       neg\n",
              "1  Este exemplo motivo maioria filmes ação mesmos...       neg\n",
              "2  Primeiro tudo odeio raps imbecis, poderiam agi...       neg\n",
              "3  Nem Beatles puderam escrever músicas todos gos...       neg\n",
              "4  Filmes fotos latão palavra apropriada eles, ve...       neg"
            ]
          },
          "metadata": {
            "tags": []
          },
          "execution_count": 9
        }
      ]
    },
    {
      "cell_type": "markdown",
      "metadata": {
        "colab_type": "text",
        "id": "ySbSTiPJA3Jc"
      },
      "source": [
        "Aplicação da tecnica de Leminização."
      ]
    },
    {
      "cell_type": "code",
      "metadata": {
        "colab_type": "code",
        "outputId": "6b3ed39b-54f6-45f9-a342-a69c7897abb2",
        "id": "P1l2xgYWA3Jf",
        "colab": {
          "base_uri": "https://localhost:8080/",
          "height": 306
        }
      },
      "source": [
        "lemmatizer = nltk.stem.WordNetLemmatizer()\n",
        "w_tokenizer = nltk.tokenize.WhitespaceTokenizer()\n",
        "\n",
        "df_pt.text_pt = df_pt.text_pt.apply( lambda x: ' '.join( [lemmatizer.lemmatize(w) for w in w_tokenizer.tokenize(x)] ) )\n",
        "df_pt.head()"
      ],
      "execution_count": 0,
      "outputs": [
        {
          "output_type": "stream",
          "text": [
            "/usr/local/lib/python3.6/dist-packages/pandas/core/generic.py:5208: SettingWithCopyWarning: \n",
            "A value is trying to be set on a copy of a slice from a DataFrame.\n",
            "Try using .loc[row_indexer,col_indexer] = value instead\n",
            "\n",
            "See the caveats in the documentation: http://pandas.pydata.org/pandas-docs/stable/user_guide/indexing.html#returning-a-view-versus-a-copy\n",
            "  self[name] = value\n"
          ],
          "name": "stderr"
        },
        {
          "output_type": "execute_result",
          "data": {
            "text/html": [
              "<div>\n",
              "<style scoped>\n",
              "    .dataframe tbody tr th:only-of-type {\n",
              "        vertical-align: middle;\n",
              "    }\n",
              "\n",
              "    .dataframe tbody tr th {\n",
              "        vertical-align: top;\n",
              "    }\n",
              "\n",
              "    .dataframe thead th {\n",
              "        text-align: right;\n",
              "    }\n",
              "</style>\n",
              "<table border=\"1\" class=\"dataframe\">\n",
              "  <thead>\n",
              "    <tr style=\"text-align: right;\">\n",
              "      <th></th>\n",
              "      <th>text_pt</th>\n",
              "      <th>sentiment</th>\n",
              "    </tr>\n",
              "  </thead>\n",
              "  <tbody>\n",
              "    <tr>\n",
              "      <th>0</th>\n",
              "      <td>Mais vez, Sr. Costner arrumou filme tempo nece...</td>\n",
              "      <td>neg</td>\n",
              "    </tr>\n",
              "    <tr>\n",
              "      <th>1</th>\n",
              "      <td>Este exemplo motivo maioria filmes ação mesmos...</td>\n",
              "      <td>neg</td>\n",
              "    </tr>\n",
              "    <tr>\n",
              "      <th>2</th>\n",
              "      <td>Primeiro tudo odeio rap imbecis, poderiam agir...</td>\n",
              "      <td>neg</td>\n",
              "    </tr>\n",
              "    <tr>\n",
              "      <th>3</th>\n",
              "      <td>Nem Beatles puderam escrever músicas todos gos...</td>\n",
              "      <td>neg</td>\n",
              "    </tr>\n",
              "    <tr>\n",
              "      <th>4</th>\n",
              "      <td>Filmes fotos latão palavra apropriada eles, ve...</td>\n",
              "      <td>neg</td>\n",
              "    </tr>\n",
              "  </tbody>\n",
              "</table>\n",
              "</div>"
            ],
            "text/plain": [
              "                                             text_pt sentiment\n",
              "0  Mais vez, Sr. Costner arrumou filme tempo nece...       neg\n",
              "1  Este exemplo motivo maioria filmes ação mesmos...       neg\n",
              "2  Primeiro tudo odeio rap imbecis, poderiam agir...       neg\n",
              "3  Nem Beatles puderam escrever músicas todos gos...       neg\n",
              "4  Filmes fotos latão palavra apropriada eles, ve...       neg"
            ]
          },
          "metadata": {
            "tags": []
          },
          "execution_count": 10
        }
      ]
    },
    {
      "cell_type": "markdown",
      "metadata": {
        "colab_type": "text",
        "id": "bF9mHWoLMQNX"
      },
      "source": [
        "Aplicação da tecnica de Steamm."
      ]
    },
    {
      "cell_type": "code",
      "metadata": {
        "colab_type": "code",
        "outputId": "7d99244e-5c4f-42ed-87f8-9714f1980d40",
        "id": "gi_Nh49iMQNe",
        "colab": {
          "base_uri": "https://localhost:8080/",
          "height": 340
        }
      },
      "source": [
        "nltk.download('rslp')\n",
        "stemmer = nltk.stem.RSLPStemmer()\n",
        "w_tokenizer = nltk.tokenize.WhitespaceTokenizer()\n",
        "\n",
        "df_pt.text_pt = df_pt.text_pt.apply( lambda x: ' '.join( [stemmer.stem(w) for w in w_tokenizer.tokenize(x)] ) )\n",
        "df_pt.head()"
      ],
      "execution_count": 0,
      "outputs": [
        {
          "output_type": "stream",
          "text": [
            "[nltk_data] Downloading package rslp to /root/nltk_data...\n",
            "[nltk_data]   Unzipping stemmers/rslp.zip.\n"
          ],
          "name": "stdout"
        },
        {
          "output_type": "stream",
          "text": [
            "/usr/local/lib/python3.6/dist-packages/pandas/core/generic.py:5208: SettingWithCopyWarning: \n",
            "A value is trying to be set on a copy of a slice from a DataFrame.\n",
            "Try using .loc[row_indexer,col_indexer] = value instead\n",
            "\n",
            "See the caveats in the documentation: http://pandas.pydata.org/pandas-docs/stable/user_guide/indexing.html#returning-a-view-versus-a-copy\n",
            "  self[name] = value\n"
          ],
          "name": "stderr"
        },
        {
          "output_type": "execute_result",
          "data": {
            "text/html": [
              "<div>\n",
              "<style scoped>\n",
              "    .dataframe tbody tr th:only-of-type {\n",
              "        vertical-align: middle;\n",
              "    }\n",
              "\n",
              "    .dataframe tbody tr th {\n",
              "        vertical-align: top;\n",
              "    }\n",
              "\n",
              "    .dataframe thead th {\n",
              "        text-align: right;\n",
              "    }\n",
              "</style>\n",
              "<table border=\"1\" class=\"dataframe\">\n",
              "  <thead>\n",
              "    <tr style=\"text-align: right;\">\n",
              "      <th></th>\n",
              "      <th>text_pt</th>\n",
              "      <th>sentiment</th>\n",
              "    </tr>\n",
              "  </thead>\n",
              "  <tbody>\n",
              "    <tr>\n",
              "      <th>0</th>\n",
              "      <td>mais vez, sr. costn arrum film temp necessário...</td>\n",
              "      <td>neg</td>\n",
              "    </tr>\n",
              "    <tr>\n",
              "      <th>1</th>\n",
              "      <td>est exempl motiv maior film açã mesmos. genér ...</td>\n",
              "      <td>neg</td>\n",
              "    </tr>\n",
              "    <tr>\n",
              "      <th>2</th>\n",
              "      <td>prim tud odei rap imbecis, pod agir arm pressi...</td>\n",
              "      <td>neg</td>\n",
              "    </tr>\n",
              "    <tr>\n",
              "      <th>3</th>\n",
              "      <td>nem beatl pud escrev músic tod gostassem, emb ...</td>\n",
              "      <td>neg</td>\n",
              "    </tr>\n",
              "    <tr>\n",
              "      <th>4</th>\n",
              "      <td>film fot lat palavr apropri eles, verdade, tan...</td>\n",
              "      <td>neg</td>\n",
              "    </tr>\n",
              "  </tbody>\n",
              "</table>\n",
              "</div>"
            ],
            "text/plain": [
              "                                             text_pt sentiment\n",
              "0  mais vez, sr. costn arrum film temp necessário...       neg\n",
              "1  est exempl motiv maior film açã mesmos. genér ...       neg\n",
              "2  prim tud odei rap imbecis, pod agir arm pressi...       neg\n",
              "3  nem beatl pud escrev músic tod gostassem, emb ...       neg\n",
              "4  film fot lat palavr apropri eles, verdade, tan...       neg"
            ]
          },
          "metadata": {
            "tags": []
          },
          "execution_count": 12
        }
      ]
    },
    {
      "cell_type": "code",
      "metadata": {
        "id": "umWTfXQvS0TZ",
        "colab_type": "code",
        "outputId": "76750ebc-5d4c-47f4-f160-66ca6acac430",
        "colab": {
          "base_uri": "https://localhost:8080/",
          "height": 1000
        }
      },
      "source": [
        "vec = nltk.word_tokenize( df_pt.iloc[0].text_pt )\n",
        "vec"
      ],
      "execution_count": 0,
      "outputs": [
        {
          "output_type": "execute_result",
          "data": {
            "text/plain": [
              "['mais',\n",
              " 'vez',\n",
              " ',',\n",
              " 'sr.',\n",
              " 'costn',\n",
              " 'arrum',\n",
              " 'film',\n",
              " 'temp',\n",
              " 'necessário',\n",
              " '.',\n",
              " 'além',\n",
              " 'terr',\n",
              " 'seqü',\n",
              " 'resgat',\n",
              " 'mar',\n",
              " ',',\n",
              " 'qual',\n",
              " 'poucas',\n",
              " ',',\n",
              " 'simples',\n",
              " 'import',\n",
              " 'nenhum',\n",
              " 'personagens',\n",
              " '.',\n",
              " 'a',\n",
              " 'maior',\n",
              " 'fantasm',\n",
              " 'armário',\n",
              " ',',\n",
              " 'person',\n",
              " 'cost',\n",
              " 'realiz',\n",
              " 'log',\n",
              " 'início',\n",
              " ',',\n",
              " 'esquec',\n",
              " 'tarde',\n",
              " ',',\n",
              " 'importava',\n",
              " '.',\n",
              " 'o',\n",
              " 'person',\n",
              " 'dev',\n",
              " 'import',\n",
              " 'arrog',\n",
              " 'superconfiante',\n",
              " ',',\n",
              " 'ashton',\n",
              " 'kutcher',\n",
              " '.',\n",
              " 'o',\n",
              " 'problem',\n",
              " 'sai',\n",
              " 'garot',\n",
              " 'pens',\n",
              " 'melhor',\n",
              " 'qualqu',\n",
              " 'outr',\n",
              " 'pesso',\n",
              " 'redor',\n",
              " 'mostr',\n",
              " 'sin',\n",
              " 'armári',\n",
              " 'desordenado',\n",
              " '.',\n",
              " 'seu',\n",
              " 'únic',\n",
              " 'obstácul',\n",
              " 'parec',\n",
              " 'est',\n",
              " 'venc',\n",
              " 'costner',\n",
              " '.',\n",
              " 'finalmente',\n",
              " ',',\n",
              " 'bem',\n",
              " 'além',\n",
              " 'mei',\n",
              " 'caminho',\n",
              " ',',\n",
              " 'costn',\n",
              " 'cont',\n",
              " 'sobr',\n",
              " 'fantasm',\n",
              " 'kutchers',\n",
              " '.',\n",
              " 'som',\n",
              " 'inform',\n",
              " 'kutch',\n",
              " 'lev',\n",
              " 'ser',\n",
              " 'melhor',\n",
              " 'pressent',\n",
              " 'pressági',\n",
              " 'anteriores',\n",
              " '.',\n",
              " 'nenhum',\n",
              " 'mágic',\n",
              " 'aqui',\n",
              " ',',\n",
              " 'tud',\n",
              " 'podium',\n",
              " 'faz',\n",
              " 'deslig',\n",
              " 'hora',\n",
              " '.']"
            ]
          },
          "metadata": {
            "tags": []
          },
          "execution_count": 24
        }
      ]
    },
    {
      "cell_type": "markdown",
      "metadata": {
        "id": "SGQq2J7OVYcF",
        "colab_type": "text"
      },
      "source": [
        ".values transforma em lista\n"
      ]
    },
    {
      "cell_type": "code",
      "metadata": {
        "id": "tE5u0nUlVQ7t",
        "colab_type": "code",
        "outputId": "fb0743e5-34d5-4c1c-88ab-60cf9905765f",
        "colab": {
          "base_uri": "https://localhost:8080/",
          "height": 173
        }
      },
      "source": [
        "reviews = df_pt.text_pt.values\n",
        "reviews"
      ],
      "execution_count": 0,
      "outputs": [
        {
          "output_type": "execute_result",
          "data": {
            "text/plain": [
              "array(['mais vez, sr. costn arrum film temp necessário. além terr seqü resgat mar, qual poucas, simples import nenhum personagens. a maior fantasm armário, person cost realiz log início, esquec tarde, importava. o person dev import arrog superconfiante, ashton kutcher. o problem sai garot pens melhor qualqu outr pesso redor mostr sin armári desordenado. seu únic obstácul parec est venc costner. finalmente, bem além mei caminho, costn cont sobr fantasm kutchers. som inform kutch lev ser melhor pressent pressági anteriores. nenhum mágic aqui, tud podium faz deslig hora.',\n",
              "       'est exempl motiv maior film açã mesmos. genér chato, nad valh pen assist aqui. um complet desperdíci talent ice-t cub gel mal aproveitados, cad comprov capaz atu agir bem. não incomod este, vá ver new jack city, ricochet assist new york undercov ice-t, boyz hood, high learning friday ice cub ver negóci real. ice-t horri clich diálog so faz film ral dentes, aind pergunt diab bill paxton faz nest filme? e diab sempr interpret exat personagem? do extraterrestr diante, tod film vi bill paxton fiz interpret exat person irritante, menos ali person morreu, torn pouc gratific no geral, lix açã segund classe. exist incont \\u200b\\u200bfilm melhor ver, real quis ver filme, assist judgment night, pratic cóp carbono, melhor atu rot melhor. a únic cois fez val pen assist mão decent câm cinematograf quas refrescante, cheg pert compens horr film si bem assim. 4/10',\n",
              "       'prim tud odei rap imbecis, pod agir arm pression contr testas. tud faz amaldiço atir outr agir vers clich gangsters. o film lev cinc minut explic acontec ant armazém. não únic person simpá ness filme, exceç sem-teto, únic metad cérebro. will paxton will sadl amb \"hill billies\" sadl tão vil quant gângsteres. eu gost desd começo. o film chei viol sent especial walt hills: pesso caind janel vidr vo tod parte. não pratic nenhum enred grand problem torc ninguém. tod mund morre, excet paxton sem-tet tod receb merecem. os doi únic negr pod atu sem-tet viciado, at profissão, irrit rapp feios. fiqu long dess porcaria. observ 48 hor 1 2 vez disso. no mínimo, têm person gosta, sens hum nad além at real elenco.',\n",
              "       ...,\n",
              "       'est espant form film maior outr méd 5 estrel men film baix qual méd 7 10 estrel imdb. a mental fanboy atac novamente. qu film saiu quas tod mund bateu. até ex-namor diss film questionável. ano depois, sentei-m assist film vi aproveitando. mesm rind pouco. est assassin substitu film pesso rotul dire antoin fuqu negr michael bay. eu vej maior film fuqu intelig qualqu cois michael bay inventado. de qualqu form história: alvin sandersjami foxx ex-presidi us no-nons agent tesour edgardavid mors peã peg assassin cham bristoldoug hutchinson. alvim tod mov rastre bug implant mandíbul após acidente. enquant agent atrás bristol, bristol atrás tijol our lev assalt deu errado. jami foxx tão divert quant alvin sanders. alvin fal rápid espert deix transparecer. doug hutchinson bem bristol. ele pod ser over-the-top, vezes, comport john malkovitchesque. ele melhor aqu looney bin jim punisher: war zone. david mors bom agent tesouro. até mik epp engraç irm alvin stevie. tant quant jami algum moment engraç tela. a únic falh film algum tent suspens ca surpresa. o cen pist corr caval exagerado, consegu desvi olhar. o dire tod lá fora, ent ganh pont isso. além disso, cen bomb agent tesour amarr cade enquant deton descans port bem bacana.tud tod isc film ruim long tiro. sua nunc chato, sempr engraç verific relógi cad minuto. iss dev cont algum coisa. bait film subestim períod 2000.ps: crít aleg film violent há quant temp viv sob rocha? tenh cert viu séri die hard cad film quentin tarantino. mas film violentos, certo? esquisito.',\n",
              "       'a christm togeth real vei ant tempo, cri john denv músic dest espec sempr músic natal família. dur anos, fit casset feit disc signific natal. algum ano atrás, final consegu encontr víde ebay, ent ouv tod músic 21 anos, pud ver john muppet açã mim. se chance, divert boa música, comov brega. também interess ver vers muppet ano 70 compará-l vers recent hoje. eu acredit denv real pouc cal faz show ach norm artist compromet imag faz sing-a-long muppets, feliz feit isso. mesm consig rastr vídeo, trilh son val pena. tem algum favorit tradic muppified, algum músic orig denv também.',\n",
              "       'o dram român cl trabalh dire martin ritt tão inacredit quant são, moment praz dev princip carism estrel jan fond robert de niro, amb ótimos. ela viúv pod segu frente, analfabet inven armári prova pod adivinh resto. adapt romanc pat bark \"union street\" títul melhor! tão descontra beir graça, ediç film bagunça, aind agradável; fantas col azul ton rosados. não abert quest sérias, ângul analfabet apen ferrament enred histór am seg fog artifíci reais, emb person intenc pouc incol deriv reduz nível interessante. o final pur fluff cínic ach difícil engol emb doi person mereç final feliz fot real satisfatór outr maneira. part'],\n",
              "      dtype=object)"
            ]
          },
          "metadata": {
            "tags": []
          },
          "execution_count": 14
        }
      ]
    },
    {
      "cell_type": "code",
      "metadata": {
        "id": "3D7FN1UOVvF1",
        "colab_type": "code",
        "outputId": "e9050b32-dd86-48bf-d478-c60d1489a338",
        "colab": {
          "base_uri": "https://localhost:8080/",
          "height": 34
        }
      },
      "source": [
        "classfic = df_pt.sentiment.values\n",
        "classfic"
      ],
      "execution_count": 0,
      "outputs": [
        {
          "output_type": "execute_result",
          "data": {
            "text/plain": [
              "array(['neg', 'neg', 'neg', ..., 'pos', 'pos', 'pos'], dtype=object)"
            ]
          },
          "metadata": {
            "tags": []
          },
          "execution_count": 15
        }
      ]
    },
    {
      "cell_type": "markdown",
      "metadata": {
        "id": "jUHGccw6D5yv",
        "colab_type": "text"
      },
      "source": [
        "Separação de treinamento e teste."
      ]
    },
    {
      "cell_type": "code",
      "metadata": {
        "id": "xyWJs7EpD-Fk",
        "colab_type": "code",
        "colab": {}
      },
      "source": [
        "from sklearn.model_selection import train_test_split\n",
        "\n",
        "X = reviews\n",
        "y = classfic\n",
        "\n",
        "X_train, X_test, y_train, y_test = train_test_split( X, y, test_size=0.2, random_state=4)"
      ],
      "execution_count": 0,
      "outputs": []
    },
    {
      "cell_type": "markdown",
      "metadata": {
        "id": "00mgkKQAWdXF",
        "colab_type": "text"
      },
      "source": [
        "Criação da Bag of Words;\n",
        "Fit - cria;\n",
        "Transform - aplica;"
      ]
    },
    {
      "cell_type": "code",
      "metadata": {
        "id": "vqlW7qsqV6SE",
        "colab_type": "code",
        "outputId": "9673cf8b-2b05-49ea-8ba9-1184328cd220",
        "colab": {
          "base_uri": "https://localhost:8080/",
          "height": 34
        }
      },
      "source": [
        "from sklearn.feature_extraction.text import CountVectorizer\n",
        "vectorizer = CountVectorizer(analyzer = \"word\")\n",
        "X_train_vec = vectorizer.fit_transform(X_train)\n",
        "X_train_vec.shape"
      ],
      "execution_count": 0,
      "outputs": [
        {
          "output_type": "execute_result",
          "data": {
            "text/plain": [
              "(39567, 107042)"
            ]
          },
          "metadata": {
            "tags": []
          },
          "execution_count": 17
        }
      ]
    },
    {
      "cell_type": "code",
      "metadata": {
        "id": "dNDHY_6WYcG1",
        "colab_type": "code",
        "outputId": "fb9ee329-4031-488c-896e-5dd85892a8e8",
        "colab": {
          "base_uri": "https://localhost:8080/",
          "height": 34
        }
      },
      "source": [
        "modelo = MultinomialNB()\n",
        "modelo.fit(X_train_vec, y_train)"
      ],
      "execution_count": 0,
      "outputs": [
        {
          "output_type": "execute_result",
          "data": {
            "text/plain": [
              "MultinomialNB(alpha=1.0, class_prior=None, fit_prior=True)"
            ]
          },
          "metadata": {
            "tags": []
          },
          "execution_count": 18
        }
      ]
    },
    {
      "cell_type": "code",
      "metadata": {
        "id": "OGH8dzZuYZ4V",
        "colab_type": "code",
        "outputId": "4323d68f-d903-421d-8b05-509222bac7e9",
        "colab": {
          "base_uri": "https://localhost:8080/",
          "height": 153
        }
      },
      "source": [
        "#texto_teste = ['Esse filme é surpreendentemente ruim']\n",
        "#meu_teste = vectorizer.transform(texto_teste).toarray()\n",
        "X_test_vec = vectorizer.transform(X_test).toarray()\n",
        "print(X_test_vec)\n",
        "yhat = modelo.predict(X_test_vec)\n",
        "yhat"
      ],
      "execution_count": 0,
      "outputs": [
        {
          "output_type": "stream",
          "text": [
            "[[0 0 0 ... 0 0 0]\n",
            " [0 0 0 ... 0 0 0]\n",
            " [0 0 0 ... 0 0 0]\n",
            " ...\n",
            " [0 0 0 ... 0 0 0]\n",
            " [0 0 0 ... 0 0 0]\n",
            " [0 0 0 ... 0 0 0]]\n"
          ],
          "name": "stdout"
        },
        {
          "output_type": "execute_result",
          "data": {
            "text/plain": [
              "array(['pos', 'neg', 'pos', ..., 'pos', 'pos', 'neg'], dtype='<U3')"
            ]
          },
          "metadata": {
            "tags": []
          },
          "execution_count": 19
        }
      ]
    },
    {
      "cell_type": "markdown",
      "metadata": {
        "id": "WhYO8GfxNvth",
        "colab_type": "text"
      },
      "source": [
        "Metricas de validação"
      ]
    },
    {
      "cell_type": "code",
      "metadata": {
        "id": "ztQv0b8XFGd2",
        "colab_type": "code",
        "colab": {}
      },
      "source": [
        "from sklearn.metrics import classification_report, confusion_matrix\n",
        "import matplotlib.pyplot as plt\n",
        "import itertools"
      ],
      "execution_count": 0,
      "outputs": []
    },
    {
      "cell_type": "code",
      "metadata": {
        "id": "X-h5WSK8FGd8",
        "colab_type": "code",
        "colab": {}
      },
      "source": [
        "def plot_confusion_matrix(cm, classes,\n",
        "                          normalize=False,\n",
        "                          title='Confusion matrix',\n",
        "                          cmap=plt.cm.Blues):\n",
        "    \"\"\"\n",
        "    This function prints and plots the confusion matrix.\n",
        "    Normalization can be applied by setting `normalize=True`.\n",
        "    \"\"\"\n",
        "    if normalize:\n",
        "        cm = cm.astype('float') / cm.sum(axis=1)[:, np.newaxis]\n",
        "        print(\"Normalized confusion matrix\")\n",
        "    else:\n",
        "        print('Confusion matrix, without normalization')\n",
        "\n",
        "    print(cm)\n",
        "\n",
        "    plt.imshow(cm, interpolation='nearest', cmap=cmap)\n",
        "    plt.title(title)\n",
        "    plt.colorbar()\n",
        "    tick_marks = np.arange(len(classes))\n",
        "    plt.xticks(tick_marks, classes, rotation=45)\n",
        "    plt.yticks(tick_marks, classes)\n",
        "\n",
        "    fmt = '.2f' if normalize else 'd'\n",
        "    thresh = cm.max() / 2.\n",
        "    for i, j in itertools.product(range(cm.shape[0]), range(cm.shape[1])):\n",
        "        plt.text(j, i, format(cm[i, j], fmt),\n",
        "                 horizontalalignment=\"center\",\n",
        "                 color=\"white\" if cm[i, j] > thresh else \"black\")\n",
        "\n",
        "    plt.tight_layout()\n",
        "    plt.ylabel('True label')\n",
        "    plt.xlabel('Predicted label')"
      ],
      "execution_count": 0,
      "outputs": []
    },
    {
      "cell_type": "code",
      "metadata": {
        "id": "A4iWDvfNFGeI",
        "colab_type": "code",
        "outputId": "3ebca4fd-388a-46c0-955c-677e161b7855",
        "colab": {
          "base_uri": "https://localhost:8080/",
          "height": 34
        }
      },
      "source": [
        "from sklearn.metrics import f1_score\n",
        "f1_score(y_test, yhat, average='weighted') "
      ],
      "execution_count": 0,
      "outputs": [
        {
          "output_type": "execute_result",
          "data": {
            "text/plain": [
              "0.8554716922712872"
            ]
          },
          "metadata": {
            "tags": []
          },
          "execution_count": 22
        }
      ]
    },
    {
      "cell_type": "code",
      "metadata": {
        "id": "hI3ZaF7HHmAA",
        "colab_type": "code",
        "outputId": "12c7143b-fc8f-483c-dc49-1f0c7392a99c",
        "colab": {
          "base_uri": "https://localhost:8080/",
          "height": 515
        }
      },
      "source": [
        "import numpy as np\n",
        "# Calcula a Matriz de Confusão\n",
        "cnf_matrix = confusion_matrix(y_test, yhat)\n",
        "np.set_printoptions(precision=2)\n",
        "\n",
        "print (classification_report(y_test, yhat))\n",
        "\n",
        "# Exibe a Matriz de Confusão não-normalizada\n",
        "plt.figure()\n",
        "plot_confusion_matrix(cnf_matrix, classes=['Benign(2)','Malignant(4)'],normalize= False,  title='Confusion matrix')"
      ],
      "execution_count": 0,
      "outputs": [
        {
          "output_type": "stream",
          "text": [
            "              precision    recall  f1-score   support\n",
            "\n",
            "         neg       0.84      0.88      0.86      4969\n",
            "         pos       0.87      0.84      0.85      4923\n",
            "\n",
            "    accuracy                           0.86      9892\n",
            "   macro avg       0.86      0.86      0.86      9892\n",
            "weighted avg       0.86      0.86      0.86      9892\n",
            "\n",
            "Confusion matrix, without normalization\n",
            "[[4351  618]\n",
            " [ 811 4112]]\n"
          ],
          "name": "stdout"
        },
        {
          "output_type": "display_data",
          "data": {
            "image/png": "[encoded data removed]",
            "text/plain": [
              "<Figure size 432x288 with 2 Axes>"
            ]
          },
          "metadata": {
            "tags": []
          }
        }
      ]
    }
  ]
}