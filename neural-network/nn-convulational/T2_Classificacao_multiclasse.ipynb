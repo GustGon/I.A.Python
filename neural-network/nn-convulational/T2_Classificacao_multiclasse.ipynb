{
  "nbformat": 4,
  "nbformat_minor": 0,
  "metadata": {
    "coursera": {
      "course_slug": "deep-neural-network",
      "graded_item_id": "SXQaI",
      "launcher_item_id": "UAwhh"
    },
    "kernelspec": {
      "name": "python3",
      "display_name": "Python 3"
    },
    "language_info": {
      "codemirror_mode": {
        "name": "ipython",
        "version": 3
      },
      "file_extension": ".py",
      "mimetype": "text/x-python",
      "name": "python",
      "nbconvert_exporter": "python",
      "pygments_lexer": "ipython3",
      "version": "3.7.4"
    },
    "colab": {
      "name": "T2_Classificacao_multiclasse.ipynb",
      "provenance": [],
      "collapsed_sections": [],
      "toc_visible": true,
      "include_colab_link": true
    },
    "accelerator": "GPU"
  },
  "cells": [
    {
      "cell_type": "markdown",
      "metadata": {
        "id": "view-in-github",
        "colab_type": "text"
      },
      "source": [
        "<a href=\"https://colab.research.google.com/github/GustGon/I.A.Python/blob/master/neural-network/nn-convulational/T2_Classificacao_multiclasse.ipynb\" target=\"_parent\"><img src=\"https://colab.research.google.com/assets/colab-badge.svg\" alt=\"Open In Colab\"/></a>"
      ]
    },
    {
      "cell_type": "markdown",
      "metadata": {
        "id": "e69v9kYewj3n",
        "colab_type": "text"
      },
      "source": [
        "# Trabalho #2 - Classificação de Múltiplas Classes\n",
        "\n",
        "Nesse trabalho você vai desenvolver uma rede neural tipo densa usando a plataforma Keras para realizar uma tarefa de classificação de múltiplas classes.\n",
        "\n",
        "A tarefa de classificação desse trabalho consiste na identificação de sinais de mão a partir de imagens. \n",
        "\n",
        "Essa mesma tarefa você vai realizar novamente no próximo trabalho mas usando uma rede neural tipo convolucional para verificar a diferença de desempenho das redes neurais tipo densa e convolucional para processar imagens. "
      ]
    },
    {
      "cell_type": "markdown",
      "metadata": {
        "id": "JOQ4-tFqwj3p",
        "colab_type": "text"
      },
      "source": [
        "## Coloque os nomes e RAs dos alunos que fizeram esse trabalho\n",
        "\n",
        "Nome e número dos alunos da equipe:\n",
        "\n",
        "Aluno 1: Gustavo Gonçalves RA:19.83842-5\n",
        "\n",
        "Aluno 2: "
      ]
    },
    {
      "cell_type": "markdown",
      "metadata": {
        "id": "AmZ93j8Gwj3p",
        "colab_type": "text"
      },
      "source": [
        "Em primeiro lugar é necessário importar alguns pacotes do Python que serão usados nesse trabalho:\n",
        "- [numpy](www.numpy.org) pacote de cálculo científico com Python\n",
        "- [matplotlib](http://matplotlib.org) biblioteca para gerar gráficos em Python\n",
        "- utils.py função para ler banco de dados "
      ]
    },
    {
      "cell_type": "code",
      "metadata": {
        "id": "XfS6jrp0wj3q",
        "colab_type": "code",
        "colab": {}
      },
      "source": [
        "import numpy as np\n",
        "import h5py\n",
        "import matplotlib.pyplot as plt\n",
        "from utils import *\n",
        "\n",
        "%matplotlib inline"
      ],
      "execution_count": 0,
      "outputs": []
    },
    {
      "cell_type": "markdown",
      "metadata": {
        "collapsed": true,
        "id": "NpuxtwLxwj3t",
        "colab_type": "text"
      },
      "source": [
        "## 1 - Visão geral do problema ##\n",
        "\n",
        "**Definição do problema**: \n",
        "\n",
        "O objetivo desse problema é desenvolver uma RNA que recebe como entrada uma imagem de sinais de mão e avalia a probabilidade dos dedos da mão mostrarem um número de 0 a 5 e determina qual o número mais provável entre os seis possíveis.\n",
        "\n",
        "O banco de dados usado nesse trabalho é SIGNS, que consiste de imagens de sinais de mão criado por Andre Ng. Esse banco de dados pode ser obtido no link: https://github.com/cs230-stanford/cs230-code-examples/tree/master/tensorflow/vision\n",
        "\n",
        "O banco de dados possui 1080 exemplos de treinamento e 120 exemplos de teste. Cada exemplo consiste de uma imagem colorida associada a um rótulo de 6 classes. A Figura 1 abaixo mostra alguns exemplos dessas imagens.\n",
        "\n",
        "\n",
        "<img src=\"SIGNS.png\" style=\"width:800px;height:300px;\">"
      ]
    },
    {
      "cell_type": "markdown",
      "metadata": {
        "id": "fS0u7nfCwj3u",
        "colab_type": "text"
      },
      "source": [
        "## 2 - Dados de treinamento\n",
        "\n",
        "Os dados que iremos utilizar nesse trabalho estão nos arquivos train_signs.h5 e test_signs.h5.\n",
        "\n",
        "Características dos dados:\n",
        "\n",
        "- As imagens são coloridas e estão no padrão RGB;\n",
        "- Cada imagem tem 64 pixels de altura e 64 pixels de largura;\n",
        "- O valor da intensidade luminosa de cada cor é um número inteiro entre 0 e 255;\n",
        "- As saídas representam o rótulo do sinal de mão mostrado na imagem, sendo um número inteiro de 0 a 5. \n",
        "\n",
        "\n",
        "\n",
        "### 2.1 - Leitura dos dados\n",
        "\n",
        "Para iniciar o trabalho é necessário ler o arquivo de dados. Assim, execute o código da célula abaixo para ler o arquivo de dados."
      ]
    },
    {
      "cell_type": "code",
      "metadata": {
        "id": "q5FEbW0Iwj3v",
        "colab_type": "code",
        "outputId": "60f79ae7-343b-407a-bfd0-528da2f63d72",
        "colab": {
          "base_uri": "https://localhost:8080/",
          "height": 51
        }
      },
      "source": [
        "# Leitura do arquivo de dados\n",
        "X_train_orig, Y_train_orig, X_test_orig, Y_test_orig, classes = load_dataset()\n",
        "print(\"X_train shape:\", X_train_orig.shape, \"y_train shape:\", Y_train_orig.shape)\n",
        "print(\"X_test shape:\", X_test_orig.shape, \"y_test shape:\", Y_test_orig.shape)"
      ],
      "execution_count": 0,
      "outputs": [
        {
          "output_type": "stream",
          "text": [
            "X_train shape: (1080, 64, 64, 3) y_train shape: (1, 1080)\n",
            "X_test shape: (120, 64, 64, 3) y_test shape: (1, 120)\n"
          ],
          "name": "stdout"
        }
      ]
    },
    {
      "cell_type": "markdown",
      "metadata": {
        "id": "Ju0ELlABwj3x",
        "colab_type": "text"
      },
      "source": [
        "Pela dimensão dos tensores com os dados de treinamento e teste temos:\n",
        "\n",
        "- 1080 imagens de treinamento com dimensão de 64 por 64 por 3 pixels;\n",
        "- 120 imagens de teste com dimensão de 64 por 64 por 3 pixels.\n"
      ]
    },
    {
      "cell_type": "markdown",
      "metadata": {
        "id": "W5uGIebUwj3x",
        "colab_type": "text"
      },
      "source": [
        "Execute a célula a seguir para visualizar um exemplo de uma imagem do banco de dados com a sua classe. Altere o valor da variável 'index' e execute a célula novamente para visualizar mais exemplos diferentes."
      ]
    },
    {
      "cell_type": "code",
      "metadata": {
        "id": "NVFutQvuwj3y",
        "colab_type": "code",
        "outputId": "5f75ff82-4138-41d7-f5a6-e0d5d4309fe5",
        "colab": {
          "base_uri": "https://localhost:8080/",
          "height": 285
        }
      },
      "source": [
        "# Exemplo de uma imagem\n",
        "index = 5\n",
        "plt.imshow(X_train_orig[index])\n",
        "print (\"y = \" + str(np.squeeze(Y_train_orig[:, index])))"
      ],
      "execution_count": 0,
      "outputs": [
        {
          "output_type": "stream",
          "text": [
            "y = 4\n"
          ],
          "name": "stdout"
        },
        {
          "output_type": "display_data",
          "data": {
            "image/png": "[encoded data removed]",
            "text/plain": [
              "<Figure size 432x288 with 1 Axes>"
            ]
          },
          "metadata": {
            "tags": []
          }
        }
      ]
    },
    {
      "cell_type": "markdown",
      "metadata": {
        "id": "-UKYIVicwj30",
        "colab_type": "text"
      },
      "source": [
        "### 2.2 - Processamento dos dados\n",
        "\n",
        "Para os dados poderem ser usados para o desenvolvimento da RNA devemos primeiramente processá-los.\n",
        "\n",
        "Para isso devemos realizar as seguintes etapas:\n",
        "\n",
        "- Dividir os dados de treinamento nos conjuntos de treinamento e validação;\n",
        "- Os valores dos pixels em uma imagem é um número inteiro que deve ser transformado em número real para ser usado em cálculos;\n",
        "- Redimensionar as imagens para transfroma-las em um vetor linha;\n",
        "- Normalizar as imagens de forma que os valores dos pixels fique entre 0 e 1."
      ]
    },
    {
      "cell_type": "markdown",
      "metadata": {
        "id": "0R0TIAnEwj31",
        "colab_type": "text"
      },
      "source": [
        "### Exercício #1: Conjuntos de treinamento e validação\n",
        "\n",
        "Na célula abaixo crie um código para para dividir o conjunto de treinamento nos conjuntos de treinamento e validação. Use 960 imagens para o conjunto de treinamento e 120 imagens para o conjunto de validação. Não se esqueça de separar também as classes.\n",
        "\n",
        "Nessa célula também transponha os vetores das saídas dos dados de treinamento, validação e teste para que o primeiro eixo seja o dos exemplos e o segundo eixo o das classes."
      ]
    },
    {
      "cell_type": "code",
      "metadata": {
        "id": "wI-fSQY0wj31",
        "colab_type": "code",
        "outputId": "ec2669db-8bd3-4f2d-c531-73276402cd86",
        "colab": {
          "base_uri": "https://localhost:8080/",
          "height": 102
        }
      },
      "source": [
        "# PARA VOCÊ FAZER: Divisão dos dados de treinamento em dados de treinamento e validação\n",
        "\n",
        "# Dados de entrada\n",
        "### COMECE AQUI ### (≈ 2 linhas)\n",
        "X_train = X_train_orig[:960,:,:,:]\n",
        "X_val = X_train_orig[:120,:,:,:]\n",
        "### TERMINE AQUI ###\n",
        "\n",
        "# Dados de saída\n",
        "### COMECE AQUI ### (≈ 3 linhas)\n",
        "Y_train = np.transpose(Y_train_orig[:,:960])\n",
        "Y_val = np.transpose(Y_train_orig[:,:120])\n",
        "Y_test = np.transpose(Y_train_orig[:,:120])\n",
        "### TERMINE AQUI ###\n",
        "\n",
        "print(\"Dimensão do tensor de dados de entrada de treinamento =\", X_train.shape)\n",
        "print(\"Dimensão do tensor de dados de entrada de validação =\", X_val.shape)\n",
        "print(\"Dimensão do tensor de dados de saída de treinamento =\", Y_train.shape)\n",
        "print(\"Dimensão do tensor de dados de saída de validação =\", Y_val.shape)\n",
        "print(\"Dimensão do tensor de dados de saída de test =\", Y_test.shape)"
      ],
      "execution_count": 0,
      "outputs": [
        {
          "output_type": "stream",
          "text": [
            "Dimensão do tensor de dados de entrada de treinamento = (960, 64, 64, 3)\n",
            "Dimensão do tensor de dados de entrada de validação = (120, 64, 64, 3)\n",
            "Dimensão do tensor de dados de saída de treinamento = (960, 1)\n",
            "Dimensão do tensor de dados de saída de validação = (120, 1)\n",
            "Dimensão do tensor de dados de saída de test = (120, 1)\n"
          ],
          "name": "stdout"
        }
      ]
    },
    {
      "cell_type": "markdown",
      "metadata": {
        "id": "86tfYu8Vwj33",
        "colab_type": "text"
      },
      "source": [
        "**Saída esperada:**\n",
        "\n",
        "<dd>Dimensão do tensor de dados de entrada de treinamento = (960, 64, 64, 3)<dd>Dimensão do tensor de dados de entrada de validação = (120, 64, 64, 3)<dd>Dimensão do tensor de dados de saída de treinamento = (960, 1)<dd>\n",
        "Dimensão do tensor de dados de saída de validação = (120, 1)<dd>Dimensão do tensor de dados de saída de test = (120, 1)"
      ]
    },
    {
      "cell_type": "markdown",
      "metadata": {
        "id": "h6OTHr-Zwj34",
        "colab_type": "text"
      },
      "source": [
        "### Exercício #2: Normalização e redimensionameto dos dados de entrada\n",
        "\n",
        "Na célula abaixo crie um código para normalizar e transformar as imagens em números reais, dividindo por 255. Após essa operação, redimensionar os dados de entrada para ficarem na forma de vetor linha de dimensão num_px*num_px*3."
      ]
    },
    {
      "cell_type": "code",
      "metadata": {
        "id": "wCA4i-Bxwj35",
        "colab_type": "code",
        "outputId": "9a8de500-5001-4e2f-b592-ac19052c3776",
        "colab": {
          "base_uri": "https://localhost:8080/",
          "height": 136
        }
      },
      "source": [
        "# PARA VOCÊ FAZER: Normalização dos dados de entrada\n",
        "\n",
        "# Guarda dimensão das imagens\n",
        "num_px = X_train.shape[1]\n",
        "print(\"Numero de colunas e linhas das imagens de entrada=\", num_px)\n",
        "\n",
        "# Transformação dos dados em números reais\n",
        "### Comece AQUI ### (≈ 3 linhas)\n",
        "X_train_float = X_train/255\n",
        "X_val_float = X_val/255\n",
        "X_test_float = X_test_orig/255\n",
        "### TERMINE AQUI ###\n",
        "\n",
        "# Redimensionamento dos dados de entrada\n",
        "### COMECE AQUI ### (≈ 6 linhas)\n",
        "m_train = X_train.shape[0]\n",
        "X_train_flat = X_train_float.reshape((X_train_float.shape[0],\n",
        "                                                X_train_float.shape[1]*\n",
        "                                                X_train_float.shape[2]*\n",
        "                                                X_train_float.shape[3]))\n",
        "m_test = X_test_orig.shape[1]\n",
        "X_test_flat = X_test_float.reshape((X_test_float.shape[0],\n",
        "                                                X_test_float.shape[1]*\n",
        "                                                X_test_float.shape[2]*\n",
        "                                                X_test_float.shape[3]))\n",
        "m_val = X_val_float.shape[0]\n",
        "X_val_flat = X_val_float.reshape((X_val_float.shape[0],\n",
        "                                                X_val_float.shape[1]*\n",
        "                                                X_val_float.shape[2]*\n",
        "                                                X_val_float.shape[3]))\n",
        "### TERMINE AQUI ###\n",
        "\n",
        "print('Dimensão dos dados de entrada do conjunto de treinamento: ', X_train_flat.shape)\n",
        "print('Dimensão dos dados de entrada do conjunto de validação: ', X_val_flat.shape)\n",
        "print('Dimensão dos dados de entrada do conjunto de teste: ', X_test_flat.shape)\n",
        "\n",
        "# Para verificar se os resultados estão corretos\n",
        "print(\"Primeiros 5 elementos da primeira imagem de treinamento = \", X_train_flat[0,:5])\n",
        "print(\"Primeiros 5 elementos da primeira imagem de validação = \", X_val_flat[0,:5])\n",
        "print(\"Primeiros 5 elementos da primeira imagem de teste = \", X_test_flat[0,:5])"
      ],
      "execution_count": 0,
      "outputs": [
        {
          "output_type": "stream",
          "text": [
            "Numero de colunas e linhas das imagens de entrada= 64\n",
            "Dimensão dos dados de entrada do conjunto de treinamento:  (960, 12288)\n",
            "Dimensão dos dados de entrada do conjunto de validação:  (120, 12288)\n",
            "Dimensão dos dados de entrada do conjunto de teste:  (120, 12288)\n",
            "Primeiros 5 elementos da primeira imagem de treinamento =  [0.89019608 0.8627451  0.83921569 0.89019608 0.86666667]\n",
            "Primeiros 5 elementos da primeira imagem de validação =  [0.89019608 0.8627451  0.83921569 0.89019608 0.86666667]\n",
            "Primeiros 5 elementos da primeira imagem de teste =  [0.90588235 0.87843137 0.84705882 0.90980392 0.87843137]\n"
          ],
          "name": "stdout"
        }
      ]
    },
    {
      "cell_type": "markdown",
      "metadata": {
        "id": "TRfcqQgewj37",
        "colab_type": "text"
      },
      "source": [
        "**Saída esperada:**\n",
        "\n",
        "<dd>Numero de colunas e linhas das imagens de entrada= 64<dd>Dimensão dos dados de entrada do conjunto de treinamento:  (960, 12288)<dd>Dimensão dos dados de entrada do conjunto de validação:  (120, 12288)<dd>Dimensão dos dados de entrada do conjunto de teste:  (120, 12288)<dd>Primeiros 5 elementos da primeira imagem de treinamento =  [0.8901961 0.8627451 0.8392157 0.8901961 0.8666667]<dd>Primeiros 5 elementos da primeira imagem de validação =  [0.8980392  0.85882354 0.8117647  0.89411765 0.85882354]<dd>Primeiros 5 elementos da primeira imagem de teste =  [0.90588236 0.8784314  0.84705883 0.9098039  0.8784314 ]"
      ]
    },
    {
      "cell_type": "markdown",
      "metadata": {
        "id": "EfCMkVU_wj37",
        "colab_type": "text"
      },
      "source": [
        "### Exercício #3: Codificação das classes\n",
        "\n",
        "As classes dos sinais são identificadas por um número inteiro que varia de 0 a 5. Porém, a saída esperada de uma RNA para um problema de classificação de múltiplas classes é um vetor de dimensão igual ao número de classes, que no caso são 6 classes. Cada elemento desse vetor representa a probabilidade da imagem ser um sinal. Assim, devemos transformar as saídas reais do conjunto de dados em um vetor linha de 6 elementos, com todos os elementos iguais a zero a menos do correspondente ao da classe do sinal, que deve ser igual a um.\n",
        "\n",
        "A função que realiza essa transformação é conhecida na literatura de “one-hot-encoding”, que no Keras é chamada de to_categorical. Essa função pertence à classe de utilidades do Keras que deve ser importada antes de ser utilizada. \n",
        "\n",
        "Implemente na célula abaixo a transformação dos dados de saída usando a função to_categorical do keras."
      ]
    },
    {
      "cell_type": "code",
      "metadata": {
        "id": "Jfd9JNeLwj38",
        "colab_type": "code",
        "outputId": "2669db62-756c-428e-b084-a4153d61d663",
        "colab": {
          "base_uri": "https://localhost:8080/",
          "height": 386
        }
      },
      "source": [
        "# PARA VOCÊ FAZER: Coficação das classes dos exemplos \n",
        "\n",
        "# Importa classe de utilidades do Keras\n",
        "from keras.utils.np_utils import to_categorical\n",
        "\n",
        "# Transformação das classes de números reais para vetores\n",
        "### COMECE AQUI ### (≈ 3 linhas)\n",
        "Y_train_hot = to_categorical(Y_train)\n",
        "Y_val_hot = to_categorical(Y_val)\n",
        "Y_test_hot = to_categorical(Y_test)\n",
        "### Termine AQUI ###\n",
        "\n",
        "print('Dimensão dos dados de saída do conjunto de treinamento: ', Y_train_hot.shape)\n",
        "print('Dimensão dos dados de saída do conjunto de validação: ', Y_val_hot.shape)\n",
        "print('Dimensão dos dados de saída do conjunto de teste: ', Y_test_hot.shape)\n",
        "\n",
        "# Para verificar se os resultados estão corretos\n",
        "print(\"Primeiras 5 saídas dos exemplos de treinamento = \", Y_train_hot[:5,:])\n",
        "print(\"Primeiras 5 saídas dos exemplos de validação = \", Y_val_hot[:5,:])\n",
        "print(\"Primeiras 5 saídas dos exemplos de teste = \", Y_test_hot[:5,:])"
      ],
      "execution_count": 0,
      "outputs": [
        {
          "output_type": "stream",
          "text": [
            "Using TensorFlow backend.\n"
          ],
          "name": "stderr"
        },
        {
          "output_type": "display_data",
          "data": {
            "text/html": [
              "<p style=\"color: red;\">\n",
              "The default version of TensorFlow in Colab will soon switch to TensorFlow 2.x.<br>\n",
              "We recommend you <a href=\"https://www.tensorflow.org/guide/migrate\" target=\"_blank\">upgrade</a> now \n",
              "or ensure your notebook will continue to use TensorFlow 1.x via the <code>%tensorflow_version 1.x</code> magic:\n",
              "<a href=\"https://colab.research.google.com/notebooks/tensorflow_version.ipynb\" target=\"_blank\">more info</a>.</p>\n"
            ],
            "text/plain": [
              "<IPython.core.display.HTML object>"
            ]
          },
          "metadata": {
            "tags": []
          }
        },
        {
          "output_type": "stream",
          "text": [
            "Dimensão dos dados de saída do conjunto de treinamento:  (960, 6)\n",
            "Dimensão dos dados de saída do conjunto de validação:  (120, 6)\n",
            "Dimensão dos dados de saída do conjunto de teste:  (120, 6)\n",
            "Primeiras 5 saídas dos exemplos de treinamento =  [[0. 0. 0. 0. 0. 1.]\n",
            " [1. 0. 0. 0. 0. 0.]\n",
            " [0. 0. 1. 0. 0. 0.]\n",
            " [0. 0. 0. 0. 0. 1.]\n",
            " [0. 0. 1. 0. 0. 0.]]\n",
            "Primeiras 5 saídas dos exemplos de validação =  [[0. 0. 0. 0. 0. 1.]\n",
            " [1. 0. 0. 0. 0. 0.]\n",
            " [0. 0. 1. 0. 0. 0.]\n",
            " [0. 0. 0. 0. 0. 1.]\n",
            " [0. 0. 1. 0. 0. 0.]]\n",
            "Primeiras 5 saídas dos exemplos de teste =  [[0. 0. 0. 0. 0. 1.]\n",
            " [1. 0. 0. 0. 0. 0.]\n",
            " [0. 0. 1. 0. 0. 0.]\n",
            " [0. 0. 0. 0. 0. 1.]\n",
            " [0. 0. 1. 0. 0. 0.]]\n"
          ],
          "name": "stdout"
        }
      ]
    },
    {
      "cell_type": "markdown",
      "metadata": {
        "id": "6hG5WqqFwj39",
        "colab_type": "text"
      },
      "source": [
        "**Saída esperada:**\n",
        "\n",
        "<dd>Dimensão dos dados de saída do conjunto de treinamento:  (960, 6)<dd>Dimensão dos dados de saída do conjunto de validação:  (120, 6)<dd>Dimensão dos dados de saída do conjunto de teste:  (120, 6)<dd>Primeiras 5 saídas dos exemplos de treinamento =  [[0. 0. 0. 0. 0. 1.]<dd>[1. 0. 0. 0. 0. 0.]<dd>[0. 0. 1. 0. 0. 0.]<dd>[0. 0. 0. 0. 0. 1.]<dd> [0. 0. 1. 0. 0. 0.]]<dd>Primeiras 5 saídas dos exemplos de validação =  [[0. 1. 0. 0. 0. 0.]<dd>[0. 0. 0. 0. 0. 1.]<dd>[0. 0. 0. 0. 1. 0.]<dd>[0. 0. 0. 0. 0. 1.]<dd>[0. 0. 0. 1. 0. 0.]]<dd>Primeiras 5 saídas dos exemplos de teste =  [[1. 0. 0. 0. 0. 0.]<dd>[1. 0. 0. 0. 0. 0.]<dd>[1. 0. 0. 0. 0. 0.]<dd>[0. 0. 0. 0. 0. 1.]<dd>[0. 1. 0. 0. 0. 0.]]\n",
        "   "
      ]
    },
    {
      "cell_type": "markdown",
      "metadata": {
        "id": "ehk5Hcj4wj3-",
        "colab_type": "text"
      },
      "source": [
        "**Visualização da entrada e saída correspondente**\n",
        "\n",
        "Execute a célula abaixo para verificar se o seu programa está realizando de fato o que você espera. No código abaixo index é o número sequencial da imagem. Tente trocar a imagem, mudando a variável index, usando valores entre 0 e 959, para visualizar outros exemplos."
      ]
    },
    {
      "cell_type": "code",
      "metadata": {
        "id": "XR4e71x8wj3_",
        "colab_type": "code",
        "outputId": "bf98511f-472a-4b99-e55c-1a625ef7ab65",
        "colab": {
          "base_uri": "https://localhost:8080/",
          "height": 302
        }
      },
      "source": [
        "# Exemplo de saída\n",
        "index = 564\n",
        "print(\"Classe numérica: \", Y_train[index], \", Vetor de saída correspondentes: \", Y_train_hot[index])\n",
        "plt.imshow(X_train_orig[index], cmap='gray', vmin=0, vmax=255)"
      ],
      "execution_count": 0,
      "outputs": [
        {
          "output_type": "stream",
          "text": [
            "Classe numérica:  [3] , Vetor de saída correspondentes:  [0. 0. 0. 1. 0. 0.]\n"
          ],
          "name": "stdout"
        },
        {
          "output_type": "execute_result",
          "data": {
            "text/plain": [
              "<matplotlib.image.AxesImage at 0x7f2a16df6320>"
            ]
          },
          "metadata": {
            "tags": []
          },
          "execution_count": 9
        },
        {
          "output_type": "display_data",
          "data": {
            "image/png": "[encoded data removed]",
            "text/plain": [
              "<Figure size 432x288 with 1 Axes>"
            ]
          },
          "metadata": {
            "tags": []
          }
        }
      ]
    },
    {
      "cell_type": "markdown",
      "metadata": {
        "id": "2WuxmOb-wj4A",
        "colab_type": "text"
      },
      "source": [
        "**Saída esperada:**\n",
        "\n",
        "<dd>Classe numérica:  [3] , Vetor de saída correspondentes:  [0. 0. 0. 1. 0. 0.]<dd>"
      ]
    },
    {
      "cell_type": "markdown",
      "metadata": {
        "id": "QwG5Rh2nwj4B",
        "colab_type": "text"
      },
      "source": [
        "## 3 - RNA\n",
        "\n",
        "Nesse trabalho você irá usar uma RNA com camadas do tipo densas e com isso poderá verificar a dificuldade de realizar essa tarefa de classificação com esse tipo de RNA.\n",
        "\n",
        "### Exercício #4: Criação e configuração da RNA\n",
        "\n",
        "Você vai usar uma RNA com 2 camadas intermediárias e uma camada de saída com as seguintes características:\n",
        "\n",
        "- Primeira camada: número de neurônios n1, função de ativação ReLu;\n",
        "- Segunda camada: número de neurônios n2, função de ativação ReLu;\n",
        "- Camada de saída: número de neurônio n3, função de ativação softmax.\n",
        "\n",
        "Na célula abaixo crie uma função que recebe a dimensão dos dados de entrada e os números de neurônios das 3 camadas e configura a RNA de acordo com as características acima."
      ]
    },
    {
      "cell_type": "code",
      "metadata": {
        "id": "wXzXZcmbwj4B",
        "colab_type": "code",
        "colab": {}
      },
      "source": [
        "# PARA VOCÊ FAZER: Função para configuração da RNA\n",
        "\n",
        "# Importa classes do Keras de modelos e camadas\n",
        "from keras import models\n",
        "from keras import layers\n",
        "\n",
        "def build_model(data_shape, n1, n2, n3):\n",
        "    \"\"\"\n",
        "    Essa função configura uma rede neural deep-learnig\n",
        "    \n",
        "    Argumentos:\n",
        "    data_shape = tuple com dimensões dos dados de entrada da rede\n",
        "    n1 = número de neurônios da primeira camada\n",
        "    n2 = número de neurônios da segunda camada\n",
        "    n3 = número de neurônios da camada de saída\n",
        "       \n",
        "    Retorna: modelo da rede neural\n",
        "    \"\"\"\n",
        "    model = models.Sequential()\n",
        "    \n",
        "    # Adicione as camadas em seu modelo de RNA\n",
        "    #### COMECE AQUI ### (≈ 3 linhas)\n",
        "    model.add(layers.Dense(units=n1, activation='relu', input_shape=data_shape))\n",
        "    model.add(layers.Dense(units=n2, activation='relu'))\n",
        "    model.add(layers.Dense(units=n3, activation='softmax'))\n",
        "    ### TERMINE AQUI ###\n",
        "    \n",
        "    return model"
      ],
      "execution_count": 0,
      "outputs": []
    },
    {
      "cell_type": "markdown",
      "metadata": {
        "id": "4ApSSwrWwj4D",
        "colab_type": "text"
      },
      "source": [
        "Defina os números de neurônios das camadas intermediárias e de saída e crie a RNA usando a função build_model criada na célula anterior. Utilize n1 = 64, n2 = 32, n3 = 6. Após criar a RNA utilize o método summary para visualizar a sua rede."
      ]
    },
    {
      "cell_type": "code",
      "metadata": {
        "id": "BCH4R0DYwj4D",
        "colab_type": "code",
        "outputId": "5422293c-d5a7-4700-e466-7e59f7d873eb",
        "colab": {
          "base_uri": "https://localhost:8080/",
          "height": 377
        }
      },
      "source": [
        "# PARA VOCÊ FAZER: criação da RNA\n",
        "\n",
        "# Dimensão dos dados de entrada\n",
        "#### COMECE AQUI ### (≈ 1 linhas) \n",
        "data_shape = (X_train_flat.shape[1],)\n",
        "### TERMINE AQUI ###\n",
        "\n",
        "# Definição dos números de neurônios das camadas\n",
        "#### COMECE AQUI ### (≈ 3 linhas)\n",
        "n1 = 64\n",
        "n2 = 32\n",
        "n3 = 6\n",
        "### TERMINE AQUI ###\n",
        "\n",
        "# Cria rede neural deep learning e apresenta sua configuração\n",
        "#### COMECE AQUI ### (≈ 2 linhas)\n",
        "rna0 = build_model(data_shape, n1, n2, n3)\n",
        "rna0.summary()\n",
        "### TERMINE AQUI ###\n"
      ],
      "execution_count": 0,
      "outputs": [
        {
          "output_type": "stream",
          "text": [
            "WARNING:tensorflow:From /usr/local/lib/python3.6/dist-packages/keras/backend/tensorflow_backend.py:66: The name tf.get_default_graph is deprecated. Please use tf.compat.v1.get_default_graph instead.\n",
            "\n",
            "WARNING:tensorflow:From /usr/local/lib/python3.6/dist-packages/keras/backend/tensorflow_backend.py:541: The name tf.placeholder is deprecated. Please use tf.compat.v1.placeholder instead.\n",
            "\n",
            "WARNING:tensorflow:From /usr/local/lib/python3.6/dist-packages/keras/backend/tensorflow_backend.py:4432: The name tf.random_uniform is deprecated. Please use tf.random.uniform instead.\n",
            "\n",
            "Model: \"sequential_1\"\n",
            "_________________________________________________________________\n",
            "Layer (type)                 Output Shape              Param #   \n",
            "=================================================================\n",
            "dense_1 (Dense)              (None, 64)                786496    \n",
            "_________________________________________________________________\n",
            "dense_2 (Dense)              (None, 32)                2080      \n",
            "_________________________________________________________________\n",
            "dense_3 (Dense)              (None, 6)                 198       \n",
            "=================================================================\n",
            "Total params: 788,774\n",
            "Trainable params: 788,774\n",
            "Non-trainable params: 0\n",
            "_________________________________________________________________\n"
          ],
          "name": "stdout"
        }
      ]
    },
    {
      "cell_type": "markdown",
      "metadata": {
        "id": "mbK6E9pMwj4F",
        "colab_type": "text"
      },
      "source": [
        "**Saída esperada:**\n",
        "\n",
        "<dd>Layer (type) Output Shape Param #<dd>=================================================================<dd>dense_1 (Dense) (None, 64) 786496<dd>dense_2 (Dense) (None, 32) 2080<dd>dense_3 (Dense) (None, 6)  198<dd>=================================================================<dd>Total params: 788,774<dd>Trainable params: 788,774<dd>Non-trainable params: 0"
      ]
    },
    {
      "cell_type": "markdown",
      "metadata": {
        "id": "UDqpXuJqwj4G",
        "colab_type": "text"
      },
      "source": [
        "### Exercício #5: Compilação e treinamento da RNA\n",
        "\n",
        "Agora você vai treinar a sua RNA usando o método de otimização do gradiente descendente com momento. Assim, na célula abaixo, compile e treine a sua RNA usando os seguinte hiperparâmetros:\n",
        "\n",
        "- taxa de aprendizado = 0,001;\n",
        "- constante beta = 0,9;\n",
        "- decay = 0;\n",
        "- nesterov = True\n",
        "- batch_size = 120;\n",
        "- número de épocas = 600.\n",
        "\n",
        "**Importante:** Escolha o parâmetro verbose=0 no método fit para evitar de imprimir os resultados das 600 épocas de treinamento."
      ]
    },
    {
      "cell_type": "code",
      "metadata": {
        "id": "PDYNeDt6wj4G",
        "colab_type": "code",
        "outputId": "2cc8f242-a83e-4624-94b0-606a54ac176c",
        "colab": {
          "base_uri": "https://localhost:8080/",
          "height": 428
        }
      },
      "source": [
        "# PARA VOCÊ FAZER: compilação e treinamento da RNA usando o método do gradiente descendente com momento\n",
        "\n",
        "# importa do keras a classe dos otimizadores\n",
        "from keras import optimizers\n",
        "\n",
        "# Reinicializa o gerador de números aleatórios\n",
        "np.random.seed(1)\n",
        "\n",
        "# Configuração do otimizador e compilação da RNA\n",
        "### COMECE AQUI ### (≈ 2 linhas)\n",
        "mom = optimizers.SGD(lr=0.001, momentum=0.9, decay=0.0, nesterov=True)\n",
        "rna0.compile(loss='categorical_crossentropy', metrics=['accuracy'], optimizer=mom)\n",
        "### TERMINE AQUI ###\n",
        "\n",
        "# Treinamento da RNA\n",
        "### COMECE AQUI ### (≈ 1 linha)\n",
        "history = rna0.fit(X_train_flat, Y_train_hot, epochs=600, verbose=0, batch_size=120, validation_data=(X_val_flat, Y_val_hot))\n",
        "### TERMINE AQUI ###"
      ],
      "execution_count": 0,
      "outputs": [
        {
          "output_type": "stream",
          "text": [
            "WARNING:tensorflow:From /usr/local/lib/python3.6/dist-packages/keras/optimizers.py:793: The name tf.train.Optimizer is deprecated. Please use tf.compat.v1.train.Optimizer instead.\n",
            "\n",
            "WARNING:tensorflow:From /usr/local/lib/python3.6/dist-packages/keras/backend/tensorflow_backend.py:3576: The name tf.log is deprecated. Please use tf.math.log instead.\n",
            "\n",
            "WARNING:tensorflow:From /usr/local/lib/python3.6/dist-packages/tensorflow_core/python/ops/math_grad.py:1424: where (from tensorflow.python.ops.array_ops) is deprecated and will be removed in a future version.\n",
            "Instructions for updating:\n",
            "Use tf.where in 2.0, which has the same broadcast rule as np.where\n",
            "WARNING:tensorflow:From /usr/local/lib/python3.6/dist-packages/keras/backend/tensorflow_backend.py:1033: The name tf.assign_add is deprecated. Please use tf.compat.v1.assign_add instead.\n",
            "\n",
            "WARNING:tensorflow:From /usr/local/lib/python3.6/dist-packages/keras/backend/tensorflow_backend.py:1020: The name tf.assign is deprecated. Please use tf.compat.v1.assign instead.\n",
            "\n",
            "WARNING:tensorflow:From /usr/local/lib/python3.6/dist-packages/keras/backend/tensorflow_backend.py:3005: The name tf.Session is deprecated. Please use tf.compat.v1.Session instead.\n",
            "\n",
            "WARNING:tensorflow:From /usr/local/lib/python3.6/dist-packages/keras/backend/tensorflow_backend.py:190: The name tf.get_default_session is deprecated. Please use tf.compat.v1.get_default_session instead.\n",
            "\n",
            "WARNING:tensorflow:From /usr/local/lib/python3.6/dist-packages/keras/backend/tensorflow_backend.py:197: The name tf.ConfigProto is deprecated. Please use tf.compat.v1.ConfigProto instead.\n",
            "\n",
            "WARNING:tensorflow:From /usr/local/lib/python3.6/dist-packages/keras/backend/tensorflow_backend.py:207: The name tf.global_variables is deprecated. Please use tf.compat.v1.global_variables instead.\n",
            "\n",
            "WARNING:tensorflow:From /usr/local/lib/python3.6/dist-packages/keras/backend/tensorflow_backend.py:216: The name tf.is_variable_initialized is deprecated. Please use tf.compat.v1.is_variable_initialized instead.\n",
            "\n",
            "WARNING:tensorflow:From /usr/local/lib/python3.6/dist-packages/keras/backend/tensorflow_backend.py:223: The name tf.variables_initializer is deprecated. Please use tf.compat.v1.variables_initializer instead.\n",
            "\n"
          ],
          "name": "stdout"
        }
      ]
    },
    {
      "cell_type": "markdown",
      "metadata": {
        "id": "7t5wuiXywj4I",
        "colab_type": "text"
      },
      "source": [
        "### Visualização dos resultados\n",
        "\n",
        "Execute a célula a seguir para fazer os gráficos da função de custo e da métrica para os dados de treinamento e validação."
      ]
    },
    {
      "cell_type": "code",
      "metadata": {
        "id": "xeV4xpy_wj4I",
        "colab_type": "code",
        "outputId": "0333bf3a-b6fd-464d-86a5-6f45d9865a06",
        "colab": {
          "base_uri": "https://localhost:8080/",
          "height": 614
        }
      },
      "source": [
        "# Salva treinamento na variável history para visualização\n",
        "history_dict = history.history\n",
        "print(history_dict)\n",
        "\n",
        "# Salva custos, métricas e epocas em vetores \n",
        "custo = history_dict['loss']\n",
        "acc = history_dict['acc']\n",
        "val_custo = history_dict['val_loss']\n",
        "val_acc = history_dict['val_acc']\n",
        "\n",
        "# Cria vetor de épocas\n",
        "epocas = range(1, len(custo) + 1)\n",
        "\n",
        "# Gráfico dos valores de custo\n",
        "plt.plot(epocas, custo, 'bo', label='Custo - treinamento')\n",
        "plt.plot(epocas, val_custo, 'b', label='Custo - validação')\n",
        "plt.title('Valor da função de custo – treinamento e validação')\n",
        "plt.xlabel('Épocas')\n",
        "plt.ylabel('Custo')\n",
        "plt.legend()\n",
        "plt.show()\n",
        "\n",
        "# Gráfico dos valores da métrica\n",
        "plt.plot(epocas, acc, 'bo', label='exatidao- treinamento')\n",
        "plt.plot(epocas, val_acc, 'b', label='exatidao - validação')\n",
        "plt.title('Valor da métrica – treinamento e validação')\n",
        "plt.xlabel('Épocas')\n",
        "plt.ylabel('Exatidao')\n",
        "plt.legend()\n",
        "plt.show()"
      ],
      "execution_count": 0,
      "outputs": [
        {
          "output_type": "stream",
          "text": [
            "{'val_loss': [1.7750325202941895, 1.7229629755020142, 1.6777840852737427, 1.619226098060608, 1.5789202451705933, 1.520328402519226, 1.475919485092163, 1.4302340745925903, 1.3755754232406616, 1.4507410526275635, 1.3640152215957642, 1.292195200920105, 1.2776283025741577, 1.3067049980163574, 1.2358671426773071, 1.1779600381851196, 1.1291364431381226, 1.12864351272583, 1.0763767957687378, 1.0267682075500488, 0.9983548521995544, 1.0272372961044312, 0.9715663194656372, 1.0630892515182495, 0.8920257091522217, 0.8969568610191345, 0.9069963097572327, 0.8584563136100769, 0.8887745141983032, 0.8184078335762024, 0.7953516840934753, 0.7899266481399536, 0.7604733109474182, 0.7471582889556885, 0.8404977321624756, 0.7526524662971497, 0.7212631106376648, 0.8784289956092834, 0.6930961608886719, 0.7888676524162292, 0.7293986082077026, 0.6709840893745422, 0.7555332183837891, 0.670396089553833, 0.6394472122192383, 0.6540104150772095, 0.6306933760643005, 0.6768820285797119, 0.6815424561500549, 0.6204385161399841, 0.5956628918647766, 0.5985218286514282, 0.6174876093864441, 0.6886476874351501, 0.5408400297164917, 0.6064969301223755, 0.528706967830658, 0.52247154712677, 0.5297834277153015, 0.5510311126708984, 0.542866587638855, 0.46994248032569885, 0.5363550782203674, 0.48169174790382385, 0.4769282042980194, 0.48663610219955444, 0.5635131597518921, 0.439825177192688, 0.4698958694934845, 0.45834535360336304, 0.4056289792060852, 0.4324183464050293, 0.4906516969203949, 0.42262908816337585, 0.42280659079551697, 0.40512704849243164, 0.38054904341697693, 0.46393921971321106, 0.39629390835762024, 0.46079111099243164, 0.5766147375106812, 0.38518139719963074, 0.3793615400791168, 0.339424729347229, 0.4276978075504303, 0.39772218465805054, 0.36450430750846863, 0.3272572159767151, 0.4415341913700104, 0.355847030878067, 0.32724443078041077, 0.36788734793663025, 0.35870298743247986, 0.34832823276519775, 0.3070588707923889, 0.3461655378341675, 0.28747743368148804, 0.3057185411453247, 0.3138343095779419, 0.2656540274620056, 0.265998512506485, 0.2629557251930237, 0.27176183462142944, 0.2694707214832306, 0.28675544261932373, 0.2961369752883911, 0.25584688782691956, 0.26037707924842834, 0.28313204646110535, 0.26005086302757263, 0.24964377284049988, 0.2557857632637024, 0.3410034775733948, 0.21755622327327728, 0.2508825957775116, 0.35641175508499146, 0.22522345185279846, 0.21097074449062347, 0.2501981556415558, 0.21184565126895905, 0.2664068043231964, 0.20705778896808624, 0.36622586846351624, 0.22456564009189606, 0.275676429271698, 0.2254292070865631, 0.2764953076839447, 0.18971437215805054, 0.17632657289505005, 0.22320857644081116, 0.19114868342876434, 0.41329917311668396, 0.29384973645210266, 0.23183660209178925, 0.20659050345420837, 0.20336869359016418, 0.1724153459072113, 0.19573304057121277, 0.16624031960964203, 0.16295328736305237, 0.16563670337200165, 0.19267211854457855, 0.17557428777217865, 0.6139154434204102, 0.15369533002376556, 0.14827682077884674, 0.18241186439990997, 0.15120719373226166, 0.14180408418178558, 0.14158840477466583, 0.13669267296791077, 0.14630475640296936, 0.1332123577594757, 0.18994437158107758, 0.18236088752746582, 0.13633102178573608, 0.17600327730178833, 0.16327257454395294, 0.1336050182580948, 0.71333909034729, 0.15248505771160126, 0.12188129127025604, 0.11525489389896393, 0.11840222775936127, 0.13162891566753387, 0.10783491283655167, 0.14414428174495697, 0.23497867584228516, 0.10928387939929962, 0.10654278099536896, 0.1264123171567917, 0.10336421430110931, 0.11082680523395538, 0.09670566022396088, 0.11381878703832626, 0.12221217155456543, 0.11224623769521713, 0.09254015237092972, 0.09763491153717041, 0.09093908965587616, 0.09622109681367874, 0.14883755147457123, 0.09929236769676208, 0.14575360715389252, 0.08891431242227554, 0.10110361874103546, 0.09484031796455383, 0.12112941592931747, 0.09169324487447739, 0.08441326022148132, 0.08409849554300308, 0.08078353852033615, 0.08646853268146515, 0.08186003565788269, 0.07544342428445816, 0.08332093805074692, 0.0830867737531662, 0.08319234848022461, 0.0727071464061737, 0.07247550040483475, 0.07502487301826477, 0.0751405730843544, 0.06834375113248825, 0.06852737814188004, 0.07060746103525162, 0.06605453044176102, 0.07176239788532257, 0.06896568834781647, 0.07171125710010529, 0.07353143393993378, 0.07544989883899689, 0.07088594883680344, 0.08077194541692734, 0.0834832638502121, 0.07989904284477234, 0.0635586827993393, 0.06845080852508545, 0.06031198427081108, 0.06457547098398209, 0.06585898250341415, 0.06557904928922653, 0.056424252688884735, 0.09890010952949524, 0.06829702109098434, 0.06638618558645248, 0.07772127538919449, 0.05690859258174896, 0.0653122141957283, 0.05423080921173096, 0.06248168274760246, 0.05299575254321098, 0.05524392053484917, 0.056475963443517685, 0.06977864354848862, 0.05819413810968399, 0.06066779047250748, 0.05902848020195961, 0.05042653530836105, 0.07200346887111664, 0.05358011648058891, 0.04836198315024376, 0.05125907436013222, 0.05204637721180916, 0.044757433235645294, 0.04391631856560707, 0.055814553052186966, 0.05018143728375435, 0.05894383415579796, 0.04576545208692551, 0.05431356281042099, 0.044702984392642975, 0.042787086218595505, 0.04436775669455528, 0.048952918499708176, 0.04986818879842758, 0.0493788868188858, 0.04085495322942734, 0.043429628014564514, 0.044664572924375534, 0.040655240416526794, 0.056086234748363495, 0.0431220680475235, 0.04489729553461075, 0.03994311764836311, 0.04340098798274994, 0.038364164531230927, 0.039374180138111115, 0.04068763181567192, 0.03834601119160652, 0.03991473466157913, 0.03592633828520775, 0.04667831212282181, 0.03828110545873642, 0.03735258802771568, 0.03605146333575249, 0.0378844179213047, 0.035774748772382736, 0.037654243409633636, 0.03574018552899361, 0.04084481671452522, 0.036151349544525146, 0.03638743236660957, 0.03479490429162979, 0.03360823914408684, 0.039487939327955246, 0.03918992727994919, 0.0373055674135685, 0.035026080906391144, 0.03051609918475151, 0.03199021890759468, 0.030974769964814186, 0.0313398651778698, 0.03355048596858978, 0.030190203338861465, 0.033413030207157135, 0.03081900253891945, 0.03032650426030159, 0.031000016257166862, 0.0383569560945034, 0.031403765082359314, 0.029888352379202843, 0.02813449688255787, 0.029254574328660965, 0.028626417741179466, 0.029952509328722954, 0.02872992679476738, 0.03703254461288452, 0.02774933911859989, 0.027337264269590378, 0.02885027416050434, 0.026911426335573196, 0.030107269063591957, 0.02703499235212803, 0.02726607769727707, 0.029322126880288124, 0.027884434908628464, 0.025620313361287117, 0.02518301084637642, 0.028340866789221764, 0.02607228234410286, 0.030870016664266586, 0.025887299329042435, 0.027476506307721138, 0.026264499872922897, 0.027155157178640366, 0.02909914404153824, 0.028849907219409943, 0.02479766495525837, 0.025432201102375984, 0.025469480082392693, 0.023075545206665993, 0.024848133325576782, 0.023673633113503456, 0.023223595693707466, 0.024211201816797256, 0.023066889494657516, 0.023072708398103714, 0.025204261764883995, 0.023206321522593498, 0.02317008376121521, 0.023081673309206963, 0.022072704508900642, 0.024091491475701332, 0.022569049149751663, 0.023077547550201416, 0.022493811324238777, 0.02204023487865925, 0.025019925087690353, 0.020845433697104454, 0.020938482135534286, 0.022238876670598984, 0.023065801709890366, 0.020496446639299393, 0.021328097209334373, 0.021681560203433037, 0.021119309589266777, 0.020088760182261467, 0.020710157230496407, 0.022069057449698448, 0.020432643592357635, 0.0211519543081522, 0.022335369139909744, 0.023124931380152702, 0.020431814715266228, 0.02324858494102955, 0.02064220979809761, 0.020759770646691322, 0.02100408636033535, 0.01975032314658165, 0.0185808464884758, 0.020242754369974136, 0.018915720283985138, 0.01989666558802128, 0.018671592697501183, 0.01843944936990738, 0.02042144536972046, 0.018428780138492584, 0.018654892221093178, 0.019287768751382828, 0.017921099439263344, 0.01938423328101635, 0.017505664378404617, 0.017380107194185257, 0.017840126529335976, 0.01832067407667637, 0.017330622300505638, 0.019039278849959373, 0.018530139699578285, 0.017247779294848442, 0.01802891120314598, 0.01762380637228489, 0.01700620725750923, 0.016889214515686035, 0.017575731500983238, 0.018850360065698624, 0.017150171101093292, 0.0164767038077116, 0.01760350912809372, 0.017365187406539917, 0.016907699406147003, 0.01673749089241028, 0.016561396420001984, 0.01592896319925785, 0.016618482768535614, 0.0167540255934, 0.019269250333309174, 0.015427730046212673, 0.016812361776828766, 0.016491245478391647, 0.017806807532906532, 0.01750004291534424, 0.015471857972443104, 0.015011841431260109, 0.016540396958589554, 0.015820644795894623, 0.0156538262963295, 0.015546546317636967, 0.014996697194874287, 0.015178781934082508, 0.015219476073980331, 0.015226173214614391, 0.014411491341888905, 0.015307480469346046, 0.014513119123876095, 0.01471970696002245, 0.014023452997207642, 0.015439631417393684, 0.014359635300934315, 0.014050645753741264, 0.01447877287864685, 0.015204235911369324, 0.014377639628946781, 0.014220663346350193, 0.01385585032403469, 0.013582976534962654, 0.013630195520818233, 0.014970793388783932, 0.013881802558898926, 0.0151041429489851, 0.013562584295868874, 0.013495653867721558, 0.013904443010687828, 0.014362897723913193, 0.01444803737103939, 0.01337241567671299, 0.013600573875010014, 0.015213771723210812, 0.01399177499115467, 0.013534554280340672, 0.013479053042829037, 0.014062533155083656, 0.01409761980175972, 0.013335069641470909, 0.01437580119818449, 0.013086182065308094, 0.013141429983079433, 0.012871543876826763, 0.013120623305439949, 0.012740113772451878, 0.012569057755172253, 0.012534087523818016, 0.012558193877339363, 0.013167917728424072, 0.01226778607815504, 0.012277496978640556, 0.0133036645129323, 0.012181228026747704, 0.012310369871556759, 0.01342801097780466, 0.011758808046579361, 0.011832358315587044, 0.012645506300032139, 0.011744705028831959, 0.01221564132720232, 0.012791863642632961, 0.011732304468750954, 0.011777172796428204, 0.011672675609588623, 0.011937293224036694, 0.011387032456696033, 0.011928882449865341, 0.011473146267235279, 0.01141407247632742, 0.011138667352497578, 0.011943597346544266, 0.011001217179000378, 0.011570567265152931, 0.011634781025350094, 0.011193494312465191, 0.011894735507667065, 0.01120782271027565, 0.010911347344517708, 0.010862374678254128, 0.011220445856451988, 0.012622756883502007, 0.01123863086104393, 0.01113004982471466, 0.010845037177205086, 0.010614066384732723, 0.010614903643727303, 0.011601232923567295, 0.010969553142786026, 0.011237393133342266, 0.010758163407444954, 0.01140537764877081, 0.010518440045416355, 0.010257325135171413, 0.01021267008036375, 0.010319909080862999, 0.010545069351792336, 0.010309625416994095, 0.010801222175359726, 0.01000434160232544, 0.010861444287002087, 0.01009621936827898, 0.01034464966505766, 0.010053879581391811, 0.010090445168316364, 0.010489053092896938, 0.009999950416386127, 0.01018108706921339, 0.009740852750837803, 0.009876370429992676, 0.010418325662612915, 0.010275219567120075, 0.009822997264564037, 0.009742440655827522, 0.009869923815131187, 0.009727626107633114, 0.009914751164615154, 0.009266966953873634, 0.010157891549170017, 0.009750387631356716, 0.009841234423220158, 0.010950397700071335, 0.00930773001164198, 0.010014540515840054, 0.009634731337428093, 0.009730317629873753, 0.009516746737062931, 0.009927427396178246, 0.009065565653145313, 0.009675679728388786, 0.009227871894836426, 0.009720215573906898, 0.00932291429489851, 0.009068697690963745, 0.009267137385904789, 0.009090560488402843, 0.008814484812319279, 0.009174133650958538, 0.010340415872633457, 0.008723767474293709, 0.008762340992689133, 0.008764716796576977, 0.008713223971426487, 0.008779414929449558, 0.009478270076215267, 0.0088952062651515, 0.008651136420667171, 0.008989847265183926, 0.008636956103146076, 0.008886526338756084, 0.008512708358466625, 0.008455036208033562, 0.00870837364345789, 0.008567082695662975, 0.008555728942155838, 0.008535852655768394, 0.008456210605800152, 0.00890695583075285, 0.00872082356363535, 0.008452408947050571, 0.00853456649929285, 0.008175618946552277, 0.0085142245516181, 0.008195486851036549, 0.008219338022172451, 0.008683204650878906, 0.008081687614321709, 0.008071394637227058, 0.00794112216681242, 0.008010638877749443, 0.00810319371521473, 0.008204412646591663, 0.008091134950518608, 0.007902073673903942, 0.00862544309347868, 0.007755788508802652, 0.007784549612551928, 0.008008508943021297, 0.007868819870054722, 0.007929668761789799, 0.008365358226001263, 0.007846042513847351, 0.007740030065178871, 0.0077897910960018635, 0.0075964429415762424, 0.007983154617249966, 0.00802404060959816], 'val_acc': [0.23333333432674408, 0.25, 0.32499998807907104, 0.3583333194255829, 0.40833333134651184, 0.49166667461395264, 0.36666667461395264, 0.4749999940395355, 0.46666666865348816, 0.38333332538604736, 0.49166667461395264, 0.6166666746139526, 0.5, 0.5083333253860474, 0.574999988079071, 0.6333333253860474, 0.6083333492279053, 0.6166666746139526, 0.5833333134651184, 0.6499999761581421, 0.7333333492279053, 0.6333333253860474, 0.6666666865348816, 0.6000000238418579, 0.7333333492279053, 0.7333333492279053, 0.7333333492279053, 0.7416666746139526, 0.675000011920929, 0.75, 0.7416666746139526, 0.7583333253860474, 0.7916666865348816, 0.75, 0.7250000238418579, 0.800000011920929, 0.7583333253860474, 0.625, 0.800000011920929, 0.7833333611488342, 0.7333333492279053, 0.7916666865348816, 0.7583333253860474, 0.75, 0.7916666865348816, 0.800000011920929, 0.8166666626930237, 0.7916666865348816, 0.7749999761581421, 0.800000011920929, 0.800000011920929, 0.8166666626930237, 0.7583333253860474, 0.7416666746139526, 0.8583333492279053, 0.7666666507720947, 0.8583333492279053, 0.8666666746139526, 0.8416666388511658, 0.8333333134651184, 0.8166666626930237, 0.8833333253860474, 0.8333333134651184, 0.875, 0.875, 0.8416666388511658, 0.7749999761581421, 0.875, 0.8583333492279053, 0.8583333492279053, 0.8916666507720947, 0.8833333253860474, 0.8416666388511658, 0.8833333253860474, 0.8833333253860474, 0.8999999761581421, 0.8999999761581421, 0.8333333134651184, 0.8916666507720947, 0.8166666626930237, 0.7833333611488342, 0.875, 0.8666666746139526, 0.8999999761581421, 0.8583333492279053, 0.875, 0.8833333253860474, 0.8999999761581421, 0.875, 0.9083333611488342, 0.8999999761581421, 0.8916666507720947, 0.875, 0.8916666507720947, 0.8916666507720947, 0.8916666507720947, 0.8999999761581421, 0.9166666865348816, 0.9083333611488342, 0.9416666626930237, 0.9333333373069763, 0.9333333373069763, 0.925000011920929, 0.9083333611488342, 0.9333333373069763, 0.8916666507720947, 0.9333333373069763, 0.9166666865348816, 0.8833333253860474, 0.8999999761581421, 0.9416666626930237, 0.925000011920929, 0.8833333253860474, 0.9333333373069763, 0.9416666626930237, 0.8833333253860474, 0.9333333373069763, 0.9583333134651184, 0.9166666865348816, 0.9333333373069763, 0.9083333611488342, 0.949999988079071, 0.875, 0.9416666626930237, 0.8999999761581421, 0.925000011920929, 0.8999999761581421, 0.9583333134651184, 0.9583333134651184, 0.9333333373069763, 0.949999988079071, 0.8583333492279053, 0.9083333611488342, 0.9333333373069763, 0.9416666626930237, 0.9333333373069763, 0.9666666388511658, 0.949999988079071, 0.9750000238418579, 0.9666666388511658, 0.9666666388511658, 0.9416666626930237, 0.949999988079071, 0.800000011920929, 0.9750000238418579, 0.9833333492279053, 0.9666666388511658, 0.9833333492279053, 0.9833333492279053, 0.9916666746139526, 0.9833333492279053, 0.9583333134651184, 0.9833333492279053, 0.9583333134651184, 0.949999988079071, 0.9833333492279053, 0.9416666626930237, 0.9583333134651184, 0.9833333492279053, 0.699999988079071, 0.9583333134651184, 0.9916666746139526, 0.9833333492279053, 0.9666666388511658, 0.9750000238418579, 1.0, 0.9583333134651184, 0.9083333611488342, 1.0, 1.0, 0.9666666388511658, 0.9916666746139526, 0.9916666746139526, 1.0, 0.9750000238418579, 0.9750000238418579, 0.9916666746139526, 1.0, 1.0, 1.0, 0.9916666746139526, 0.949999988079071, 0.9916666746139526, 0.9416666626930237, 0.9916666746139526, 0.9916666746139526, 0.9916666746139526, 0.9750000238418579, 1.0, 1.0, 1.0, 1.0, 1.0, 1.0, 1.0, 0.9916666746139526, 1.0, 1.0, 1.0, 1.0, 1.0, 1.0, 1.0, 1.0, 1.0, 1.0, 1.0, 1.0, 1.0, 1.0, 1.0, 0.9916666746139526, 0.9833333492279053, 0.9916666746139526, 0.9833333492279053, 1.0, 1.0, 1.0, 1.0, 1.0, 1.0, 1.0, 0.9750000238418579, 1.0, 0.9916666746139526, 1.0, 1.0, 1.0, 1.0, 1.0, 1.0, 1.0, 1.0, 1.0, 1.0, 1.0, 1.0, 1.0, 0.9916666746139526, 1.0, 1.0, 1.0, 1.0, 1.0, 1.0, 1.0, 1.0, 1.0, 1.0, 1.0, 1.0, 1.0, 1.0, 1.0, 1.0, 1.0, 1.0, 1.0, 1.0, 1.0, 0.9916666746139526, 1.0, 1.0, 1.0, 1.0, 1.0, 1.0, 1.0, 1.0, 1.0, 1.0, 1.0, 1.0, 1.0, 1.0, 1.0, 1.0, 1.0, 1.0, 1.0, 1.0, 1.0, 1.0, 1.0, 1.0, 1.0, 1.0, 1.0, 1.0, 1.0, 1.0, 1.0, 1.0, 1.0, 1.0, 1.0, 1.0, 1.0, 1.0, 1.0, 1.0, 1.0, 1.0, 1.0, 1.0, 1.0, 1.0, 1.0, 1.0, 1.0, 1.0, 1.0, 1.0, 1.0, 1.0, 1.0, 1.0, 1.0, 1.0, 1.0, 1.0, 1.0, 1.0, 1.0, 1.0, 1.0, 1.0, 1.0, 1.0, 1.0, 1.0, 1.0, 1.0, 1.0, 1.0, 1.0, 1.0, 1.0, 1.0, 1.0, 1.0, 1.0, 1.0, 1.0, 1.0, 1.0, 1.0, 1.0, 1.0, 1.0, 1.0, 1.0, 1.0, 1.0, 1.0, 1.0, 1.0, 1.0, 1.0, 1.0, 1.0, 1.0, 1.0, 1.0, 1.0, 1.0, 1.0, 1.0, 1.0, 1.0, 1.0, 1.0, 1.0, 1.0, 1.0, 1.0, 1.0, 1.0, 1.0, 1.0, 1.0, 1.0, 1.0, 1.0, 1.0, 1.0, 1.0, 1.0, 1.0, 1.0, 1.0, 1.0, 1.0, 1.0, 1.0, 1.0, 1.0, 1.0, 1.0, 1.0, 1.0, 1.0, 1.0, 1.0, 1.0, 1.0, 1.0, 1.0, 1.0, 1.0, 1.0, 1.0, 1.0, 1.0, 1.0, 1.0, 1.0, 1.0, 1.0, 1.0, 1.0, 1.0, 1.0, 1.0, 1.0, 1.0, 1.0, 1.0, 1.0, 1.0, 1.0, 1.0, 1.0, 1.0, 1.0, 1.0, 1.0, 1.0, 1.0, 1.0, 1.0, 1.0, 1.0, 1.0, 1.0, 1.0, 1.0, 1.0, 1.0, 1.0, 1.0, 1.0, 1.0, 1.0, 1.0, 1.0, 1.0, 1.0, 1.0, 1.0, 1.0, 1.0, 1.0, 1.0, 1.0, 1.0, 1.0, 1.0, 1.0, 1.0, 1.0, 1.0, 1.0, 1.0, 1.0, 1.0, 1.0, 1.0, 1.0, 1.0, 1.0, 1.0, 1.0, 1.0, 1.0, 1.0, 1.0, 1.0, 1.0, 1.0, 1.0, 1.0, 1.0, 1.0, 1.0, 1.0, 1.0, 1.0, 1.0, 1.0, 1.0, 1.0, 1.0, 1.0, 1.0, 1.0, 1.0, 1.0, 1.0, 1.0, 1.0, 1.0, 1.0, 1.0, 1.0, 1.0, 1.0, 1.0, 1.0, 1.0, 1.0, 1.0, 1.0, 1.0, 1.0, 1.0, 1.0, 1.0, 1.0, 1.0, 1.0, 1.0, 1.0, 1.0, 1.0, 1.0, 1.0, 1.0, 1.0, 1.0, 1.0, 1.0, 1.0, 1.0, 1.0, 1.0, 1.0, 1.0, 1.0, 1.0, 1.0, 1.0, 1.0, 1.0, 1.0, 1.0, 1.0, 1.0, 1.0, 1.0, 1.0, 1.0, 1.0, 1.0, 1.0, 1.0, 1.0, 1.0, 1.0, 1.0, 1.0, 1.0, 1.0, 1.0, 1.0, 1.0, 1.0, 1.0, 1.0, 1.0, 1.0, 1.0, 1.0, 1.0, 1.0, 1.0, 1.0, 1.0, 1.0, 1.0, 1.0, 1.0, 1.0, 1.0, 1.0, 1.0, 1.0, 1.0, 1.0, 1.0], 'loss': [1.816970482468605, 1.7587084025144577, 1.7224563211202621, 1.6553317159414291, 1.5929629653692245, 1.5478005707263947, 1.4986217767000198, 1.4416427910327911, 1.3977244794368744, 1.3864004611968994, 1.3339489996433258, 1.2944279462099075, 1.2535411417484283, 1.2301200330257416, 1.1865904033184052, 1.1551413834095001, 1.1322377175092697, 1.0884054154157639, 1.0767083168029785, 1.0426085889339447, 0.9948000684380531, 0.9872075915336609, 0.9653206318616867, 1.0001374408602715, 0.938291147351265, 0.9201926663517952, 0.9427201896905899, 0.8803020119667053, 0.8691566735506058, 0.8945512175559998, 0.8246721103787422, 0.8334713652729988, 0.8311966136097908, 0.7854932174086571, 0.7678000628948212, 0.7873718589544296, 0.7252002358436584, 0.8353127241134644, 0.7875044122338295, 0.7434777319431305, 0.7513734772801399, 0.7249332442879677, 0.69537004083395, 0.6851120442152023, 0.6575264856219292, 0.6364279538393021, 0.6648237034678459, 0.6658333614468575, 0.6307828053832054, 0.6120479144155979, 0.6035890877246857, 0.58417097479105, 0.6043799668550491, 0.5816662907600403, 0.7543787062168121, 0.607768602669239, 0.5620027706027031, 0.5209487713873386, 0.5765149593353271, 0.5324107110500336, 0.5308329053223133, 0.5076216533780098, 0.5306745171546936, 0.5139027386903763, 0.49383292347192764, 0.5118335112929344, 0.5552410371601582, 0.5382402054965496, 0.46183953806757927, 0.4849952384829521, 0.4605928398668766, 0.45163433253765106, 0.46921801567077637, 0.44582731649279594, 0.4882337562739849, 0.4951217398047447, 0.4472309350967407, 0.41619308665394783, 0.41658229008316994, 0.4329308047890663, 0.5192323625087738, 0.4477262869477272, 0.3867565616965294, 0.39087777212262154, 0.40464935079216957, 0.4928505904972553, 0.3880622386932373, 0.4912383183836937, 0.41609713062644005, 0.3830699548125267, 0.37680546566843987, 0.518268309533596, 0.42512571811676025, 0.3522654250264168, 0.38704175502061844, 0.35791953280568123, 0.3627104312181473, 0.3258671686053276, 0.3211825527250767, 0.3020537756383419, 0.31310414522886276, 0.348527068272233, 0.30207347124814987, 0.3131929859519005, 0.32435641065239906, 0.32130319252610207, 0.29468595795333385, 0.29664499685168266, 0.3421497941017151, 0.3044605664908886, 0.29429115913808346, 0.26021746546030045, 0.2800490614026785, 0.27333569154143333, 0.2551870010793209, 0.29205162078142166, 0.26366265676915646, 0.2792448066174984, 0.2526155933737755, 0.2589639984071255, 0.23135514743626118, 0.28623282350599766, 0.33410402946174145, 0.3233957849442959, 0.23675204999744892, 0.222018014639616, 0.23516974598169327, 0.23949886485934258, 0.21190235204994678, 0.21157878637313843, 0.22776906564831734, 0.2529538758099079, 0.23739175871014595, 0.21379741095006466, 0.2765733152627945, 0.21604331582784653, 0.19897248409688473, 0.22456765919923782, 0.2288572210818529, 0.1890715155750513, 0.17831225506961346, 0.18483190797269344, 0.19754140637815, 0.2651187852025032, 0.2788407113403082, 0.19806348718702793, 0.175947492942214, 0.18600809946656227, 0.175700094550848, 0.17253736965358257, 0.16335602849721909, 0.1689265090972185, 0.16621261835098267, 0.15463129617273808, 0.17602173704653978, 0.15426768828183413, 0.17672225460410118, 0.1638779565691948, 0.15502602234482765, 0.23924965783953667, 0.4971636887639761, 0.14961800258606672, 0.14060546550899744, 0.1520769726485014, 0.1324183838441968, 0.1527168732136488, 0.13613237347453833, 0.14408552926033735, 0.19386879540979862, 0.1255895271897316, 0.12812918238341808, 0.12393719237297773, 0.13365742657333612, 0.1171931279823184, 0.11550060659646988, 0.12018546741455793, 0.12553078215569258, 0.11430565640330315, 0.12437341827899218, 0.11823294404894114, 0.11635522730648518, 0.12876845430582762, 0.12298212666064501, 0.10567698162049055, 0.11492079589515924, 0.10632969718426466, 0.10284499544650316, 0.10159599781036377, 0.12423362582921982, 0.10649041179567575, 0.10231130663305521, 0.0969727411866188, 0.09416302479803562, 0.09118635021150112, 0.0918247289955616, 0.08981094602495432, 0.10017130617052317, 0.09524558298289776, 0.08933867886662483, 0.09079411718994379, 0.08534622006118298, 0.11996655352413654, 0.08768550958484411, 0.08437328971922398, 0.08791307220235467, 0.08965103887021542, 0.09718168899416924, 0.08154519274830818, 0.08323502819985151, 0.07901356928050518, 0.07830432709306479, 0.08463418856263161, 0.07606853172183037, 0.08186404965817928, 0.0770582016557455, 0.07928383443504572, 0.07039343053475022, 0.07211358798667789, 0.0685857399366796, 0.08089007856324315, 0.06839706609025598, 0.07496114913374186, 0.07347496459260583, 0.0796806225553155, 0.07108336221426725, 0.07623550295829773, 0.06953096482902765, 0.06954045873135328, 0.06173418974503875, 0.061492159496992826, 0.06198732601478696, 0.06275433348491788, 0.06310258759185672, 0.061990917194634676, 0.06452321587130427, 0.05976988887414336, 0.06406598072499037, 0.06230219965800643, 0.058182939887046814, 0.06149689666926861, 0.05746754119172692, 0.05847725784406066, 0.0613779011182487, 0.05825087567791343, 0.05692999577149749, 0.05792571185156703, 0.0534942327067256, 0.055350907146930695, 0.05518457666039467, 0.0597508829087019, 0.052756732795387506, 0.05018466850742698, 0.05056354543194175, 0.049562047235667706, 0.051431503146886826, 0.04962228424847126, 0.050303840544074774, 0.05064226547256112, 0.05249837273731828, 0.05430133081972599, 0.04798265779390931, 0.0503016309812665, 0.04485863773152232, 0.046459566336125135, 0.04796809749677777, 0.04652213351801038, 0.04306538822129369, 0.04544390877708793, 0.04452511086128652, 0.04184969328343868, 0.04389590444043279, 0.04727016715332866, 0.04160919366404414, 0.041732634883373976, 0.043891641311347485, 0.04029160924255848, 0.03983809077180922, 0.04107354022562504, 0.04009173298254609, 0.040833813371136785, 0.038780573988333344, 0.03875973937101662, 0.04026074358262122, 0.04032861930318177, 0.03899664548225701, 0.03901693713851273, 0.041874514892697334, 0.03698896639980376, 0.037327143363654613, 0.035265942104160786, 0.03517345315776765, 0.03826788393780589, 0.037470814073458314, 0.0367574964184314, 0.03600814170204103, 0.03688754071481526, 0.03464989038184285, 0.034570005256682634, 0.034091567154973745, 0.03664896637201309, 0.03361623641103506, 0.033004000782966614, 0.03587284893728793, 0.03322498267516494, 0.03239921713247895, 0.032763499300926924, 0.03209294471889734, 0.033147988142445683, 0.03229366638697684, 0.03141713351942599, 0.031076842918992043, 0.033444549422711134, 0.0312697805929929, 0.029846707126125693, 0.030718986876308918, 0.029604565352201462, 0.031219719909131527, 0.02873008558526635, 0.029189597815275192, 0.029663403751328588, 0.029255653265863657, 0.029020547401160002, 0.029063326306641102, 0.028876206139102578, 0.027703834231942892, 0.027228296967223287, 0.02849464723840356, 0.02818235452286899, 0.026698240777477622, 0.02669147588312626, 0.027089003240689635, 0.027737907832488418, 0.02717162179760635, 0.02611006353981793, 0.026567583438009024, 0.026217195903882384, 0.02551584248431027, 0.02532291179522872, 0.025641545187681913, 0.025596167659386992, 0.024750114418566227, 0.025538500398397446, 0.02457053097896278, 0.025317059131339192, 0.024791166419163346, 0.024668070254847407, 0.024589292472228408, 0.02377812215127051, 0.024238833459094167, 0.023633598582819104, 0.024360800627619028, 0.02357462956570089, 0.02391042746603489, 0.023367233807221055, 0.023630827199667692, 0.023161611054092646, 0.02301422762684524, 0.022556381300091743, 0.02249982813373208, 0.022738419706001878, 0.02226060163229704, 0.022335706278681755, 0.02214975468814373, 0.022229880327358842, 0.021485359175130725, 0.02210590080358088, 0.02113026473671198, 0.021232446189969778, 0.02158541069366038, 0.02150753326714039, 0.02098755887709558, 0.020931348903104663, 0.020918048918247223, 0.020455895690247416, 0.020300531992688775, 0.02105055726133287, 0.02092224732041359, 0.020820795325562358, 0.020651330007240176, 0.020279342774301767, 0.019979431526735425, 0.019685996579937637, 0.019428127212449908, 0.019753208965994418, 0.019235655083321035, 0.018906167708337307, 0.019418719690293074, 0.019742406904697418, 0.019468871993012726, 0.018830529181286693, 0.01869943516794592, 0.018422314431518316, 0.01850446779280901, 0.019029676564969122, 0.019132383982650936, 0.01869571499992162, 0.01830287103075534, 0.01824000768829137, 0.018497723387554288, 0.01815522974357009, 0.01877530140336603, 0.018102541915141046, 0.017619559774175286, 0.01749317196663469, 0.017553220153786242, 0.017356447060592473, 0.017551335389725864, 0.017098608310334384, 0.017370642512105405, 0.01709008461330086, 0.016976173035800457, 0.01681405445560813, 0.016476061660796404, 0.01695565297268331, 0.01730604493059218, 0.01716348167974502, 0.016375386621803045, 0.016989990486763418, 0.016158699989318848, 0.016295983106829226, 0.016172790434211493, 0.017147755715996027, 0.016214463277719915, 0.01618103077635169, 0.015691774431616068, 0.015903539839200675, 0.015566645888611674, 0.01612122671213001, 0.015588165842927992, 0.015529955620877445, 0.015342487371526659, 0.01572004542686045, 0.015393412439152598, 0.01516656018793583, 0.015381454955786467, 0.015282415435649455, 0.014824317768216133, 0.015408088336698711, 0.014739450416527689, 0.015005097258836031, 0.014807013445533812, 0.014914345112629235, 0.014465612592175603, 0.014817280694842339, 0.014655272359959781, 0.014458716614171863, 0.014698649058118463, 0.014638393884524703, 0.014302527881227434, 0.014392931596376002, 0.014362682006321847, 0.014129723072983325, 0.014210360124707222, 0.013880130951292813, 0.013956567854620516, 0.013651467859745026, 0.013721702503971756, 0.013721586903557181, 0.014047037344425917, 0.013603750499896705, 0.013633751892484725, 0.013403030345216393, 0.013420119765214622, 0.013332301517948508, 0.013407582067884505, 0.013059985358268023, 0.013418393908068538, 0.013173365034162998, 0.012937822728417814, 0.012939386768266559, 0.012972595170140266, 0.013105239369906485, 0.012997089535929263, 0.012693700613453984, 0.012635306105948985, 0.012880616239272058, 0.012552036438137293, 0.012506800703704357, 0.01246745465323329, 0.012342641479335725, 0.012413698714226484, 0.012289531296119094, 0.012405212386511266, 0.012314866064116359, 0.012405714369378984, 0.01213409926276654, 0.012470977031625807, 0.012189071741886437, 0.012455370044335723, 0.011946607613936067, 0.012100293883122504, 0.011879756930284202, 0.011859452235512435, 0.011753789847716689, 0.011628336971625686, 0.012008769786916673, 0.011796572362072766, 0.01171798282302916, 0.011599474702961743, 0.011479193577542901, 0.011647778563201427, 0.011614736285991967, 0.011381729389540851, 0.011279596015810966, 0.011272096424363554, 0.01132527063600719, 0.011211892124265432, 0.011330427136272192, 0.011356014525517821, 0.011059186537750065, 0.011121694114990532, 0.010946951224468648, 0.010954907047562301, 0.010935267433524132, 0.01115733734332025, 0.01089565153233707, 0.011045259423553944, 0.010758620570413768, 0.010775991133414209, 0.010847745405044407, 0.010745459352619946, 0.010854747146368027, 0.010716994758695364, 0.010466791922226548, 0.01055942801758647, 0.010653911624103785, 0.010509834042750299, 0.010320317931473255, 0.010367199894972146, 0.010337040876038373, 0.010374176083132625, 0.010302797192707658, 0.010284860734827816, 0.010163465049117804, 0.010248101549223065, 0.010319229098968208, 0.010007326724007726, 0.010206539067439735, 0.010181733639910817, 0.010024890420027077, 0.009960424271412194, 0.00995204586070031, 0.009840534185059369, 0.009865983971394598, 0.009949247178155929, 0.009880929486826062, 0.009833969234023243, 0.009793915902264416, 0.009769660187885165, 0.009552219300530851, 0.009718465502373874, 0.009434474864974618, 0.009679421782493591, 0.009555064490996301, 0.009383443160913885, 0.009476654697209597, 0.009477801620960236, 0.009472661069594324, 0.009522710926830769, 0.00926920271012932, 0.00923830270767212, 0.0093489630962722, 0.0091917286044918, 0.009165312279947102, 0.009287277760449797, 0.009091005777008832, 0.00920685805613175, 0.00918397307395935, 0.009059365896973759, 0.009087917220313102, 0.008958825841546059, 0.008931481628678739, 0.009194083570037037, 0.008922232780605555, 0.008888412034139037, 0.008807905076537281, 0.008916136343032122, 0.008789128973148763, 0.008827518322505057, 0.008700405072886497, 0.008870225574355572, 0.008614912920165807, 0.008636446902528405, 0.008980256039649248, 0.00874814746202901, 0.008760156517382711, 0.008619380358140916, 0.008585292496718466, 0.008494702051393688, 0.008645824913401157, 0.008488433726597577, 0.008451866742689162, 0.008771151246037334, 0.008363622648175806, 0.008415986958425492, 0.00837532733567059, 0.00840108038391918, 0.008314542355947196, 0.008381695370189846, 0.00834552786545828], 'acc': [0.18749999813735485, 0.2604166679084301, 0.2739583346992731, 0.3604166656732559, 0.39895833656191826, 0.4166666641831398, 0.46875, 0.5093750022351742, 0.5333333313465118, 0.4958333261311054, 0.5395833402872086, 0.5406249947845936, 0.5635416805744171, 0.5718749947845936, 0.6239583380520344, 0.6187499947845936, 0.6385416612029076, 0.648958332836628, 0.6416666582226753, 0.6458333432674408, 0.6906249970197678, 0.6968749985098839, 0.6781250163912773, 0.6395833343267441, 0.6958333402872086, 0.6937500089406967, 0.680208332836628, 0.7281249836087227, 0.7041666731238365, 0.6916666552424431, 0.7343750149011612, 0.7322916686534882, 0.7291666716337204, 0.7687499970197678, 0.7635416686534882, 0.7250000089406967, 0.7927083298563957, 0.7010416686534882, 0.7281249985098839, 0.7458333373069763, 0.7364583238959312, 0.7645833268761635, 0.7802083343267441, 0.7749999985098839, 0.7979166656732559, 0.8239583373069763, 0.7760416716337204, 0.7864583283662796, 0.8145833387970924, 0.8104166612029076, 0.8197916746139526, 0.8395833224058151, 0.8187500014901161, 0.836458332836628, 0.7250000014901161, 0.8000000044703484, 0.8322916626930237, 0.8489583432674408, 0.8041666597127914, 0.84375, 0.8458333313465118, 0.8541666567325592, 0.8416666612029076, 0.8427083343267441, 0.8708333298563957, 0.835416667163372, 0.8083333447575569, 0.8114583417773247, 0.877083346247673, 0.8583333268761635, 0.867708332836628, 0.8739583417773247, 0.8593750074505806, 0.8729166686534882, 0.835416667163372, 0.8281249925494194, 0.8510416746139526, 0.8854166641831398, 0.885416679084301, 0.8781250044703484, 0.8145833387970924, 0.8656249940395355, 0.890625, 0.8937500044703484, 0.8843750134110451, 0.820833332836628, 0.8895833268761635, 0.8385416716337204, 0.8645833432674408, 0.8927083313465118, 0.8927083313465118, 0.805208332836628, 0.871874988079071, 0.90625, 0.8770833313465118, 0.8916666731238365, 0.8927083387970924, 0.9145833402872086, 0.9187500104308128, 0.9312500059604645, 0.9229166656732559, 0.8937499970197678, 0.9343749955296516, 0.9166666641831398, 0.9093749970197678, 0.9114583432674408, 0.9281249940395355, 0.9281250089406967, 0.8822916746139526, 0.9177083224058151, 0.9270833358168602, 0.9427083283662796, 0.9281250089406967, 0.9364583417773247, 0.9416666775941849, 0.9166666716337204, 0.9416666552424431, 0.9260416626930237, 0.9489583298563957, 0.9291666597127914, 0.9510416612029076, 0.9083333387970924, 0.8791666701436043, 0.8927083313465118, 0.9468749836087227, 0.951041653752327, 0.9468749985098839, 0.9416666701436043, 0.9562499895691872, 0.9541666582226753, 0.9447916597127914, 0.9374999925494194, 0.9343749955296516, 0.9562499895691872, 0.9260416626930237, 0.9489583298563957, 0.9572916626930237, 0.9479166641831398, 0.9385416582226753, 0.9604166522622108, 0.966666653752327, 0.9666666686534882, 0.9562500044703484, 0.9104166626930237, 0.9156249910593033, 0.9531249925494194, 0.9624999985098839, 0.9583333358168602, 0.9593749865889549, 0.9666666612029076, 0.9624999985098839, 0.9656250029802322, 0.9697916656732559, 0.9750000014901161, 0.9614583253860474, 0.9708333313465118, 0.9572916552424431, 0.9697916656732559, 0.9739583358168602, 0.9260416626930237, 0.8427083268761635, 0.9791666716337204, 0.9812500104308128, 0.9739583358168602, 0.9833333343267441, 0.9697916656732559, 0.9781249985098839, 0.9635416716337204, 0.9583333432674408, 0.9833333417773247, 0.9864583313465118, 0.9864583387970924, 0.976041667163372, 0.9854166805744171, 0.987500011920929, 0.9864583387970924, 0.9802083373069763, 0.986458346247673, 0.9854166731238365, 0.9843750074505806, 0.9833333343267441, 0.976041667163372, 0.9791666716337204, 0.9916666746139526, 0.9854166805744171, 0.9885416701436043, 0.9885416775941849, 0.9906250089406967, 0.976041667163372, 0.9885416701436043, 0.9916666746139526, 0.9937500059604645, 0.9916666746139526, 0.9979166686534882, 0.9968750029802322, 0.9968750029802322, 0.991666667163372, 0.9937500059604645, 0.992708332836628, 0.9947916716337204, 0.9968750029802322, 0.9750000014901161, 0.9968750029802322, 0.9968750029802322, 0.9927083402872086, 0.9906250089406967, 0.9864583387970924, 0.9979166686534882, 0.9958333373069763, 0.9958333373069763, 0.9958333373069763, 0.9927083402872086, 0.9989583343267441, 0.9947916716337204, 0.9968750029802322, 0.9927083402872086, 0.9979166686534882, 0.9979166686534882, 0.9989583343267441, 0.9916666746139526, 0.9968750029802322, 0.9968750029802322, 0.9958333373069763, 0.9906250014901161, 0.9947916716337204, 0.9958333373069763, 0.9968750029802322, 0.9979166686534882, 0.9989583343267441, 0.9989583343267441, 0.9989583343267441, 0.9979166686534882, 0.9968750029802322, 0.9979166686534882, 0.9968750029802322, 1.0, 0.9979166686534882, 0.9979166686534882, 0.9979166686534882, 0.9979166686534882, 1.0, 0.9979166686534882, 0.9947916641831398, 0.9979166686534882, 1.0, 0.9968750029802322, 0.9989583343267441, 0.9979166686534882, 0.9979166686534882, 0.9968750029802322, 0.9979166686534882, 0.9989583343267441, 0.9989583343267441, 1.0, 0.9979166686534882, 1.0, 0.9989583343267441, 0.9979166686534882, 0.9979166686534882, 0.9968750029802322, 1.0, 1.0, 1.0, 1.0, 0.9989583343267441, 0.9989583343267441, 0.9989583343267441, 0.9989583343267441, 0.9989583343267441, 0.9989583343267441, 1.0, 0.9989583343267441, 0.9989583343267441, 1.0, 1.0, 1.0, 1.0, 1.0, 1.0, 1.0, 1.0, 1.0, 1.0, 1.0, 1.0, 1.0, 1.0, 1.0, 1.0, 1.0, 1.0, 1.0, 1.0, 1.0, 0.9989583343267441, 1.0, 1.0, 1.0, 1.0, 1.0, 1.0, 1.0, 0.9989583343267441, 1.0, 1.0, 1.0, 1.0, 1.0, 1.0, 1.0, 1.0, 0.9989583343267441, 1.0, 1.0, 1.0, 1.0, 0.9989583343267441, 1.0, 1.0, 1.0, 1.0, 1.0, 1.0, 1.0, 1.0, 1.0, 1.0, 1.0, 1.0, 1.0, 1.0, 1.0, 1.0, 1.0, 1.0, 1.0, 1.0, 1.0, 1.0, 1.0, 1.0, 1.0, 1.0, 1.0, 1.0, 1.0, 1.0, 1.0, 1.0, 1.0, 1.0, 1.0, 1.0, 1.0, 1.0, 1.0, 1.0, 1.0, 1.0, 1.0, 1.0, 1.0, 1.0, 1.0, 1.0, 1.0, 1.0, 1.0, 1.0, 1.0, 1.0, 1.0, 1.0, 1.0, 1.0, 1.0, 1.0, 1.0, 1.0, 1.0, 1.0, 1.0, 1.0, 1.0, 1.0, 1.0, 1.0, 1.0, 1.0, 1.0, 1.0, 1.0, 1.0, 1.0, 1.0, 1.0, 1.0, 1.0, 1.0, 1.0, 1.0, 1.0, 1.0, 1.0, 1.0, 1.0, 1.0, 1.0, 1.0, 1.0, 1.0, 1.0, 1.0, 1.0, 1.0, 1.0, 1.0, 1.0, 1.0, 1.0, 1.0, 1.0, 1.0, 1.0, 1.0, 1.0, 1.0, 1.0, 1.0, 1.0, 1.0, 1.0, 1.0, 1.0, 1.0, 1.0, 1.0, 1.0, 1.0, 1.0, 1.0, 1.0, 1.0, 1.0, 1.0, 1.0, 1.0, 1.0, 1.0, 1.0, 1.0, 1.0, 1.0, 1.0, 1.0, 1.0, 1.0, 1.0, 1.0, 1.0, 1.0, 1.0, 1.0, 1.0, 1.0, 1.0, 1.0, 1.0, 1.0, 1.0, 1.0, 1.0, 1.0, 1.0, 1.0, 1.0, 1.0, 1.0, 1.0, 1.0, 1.0, 1.0, 1.0, 1.0, 1.0, 1.0, 1.0, 1.0, 1.0, 1.0, 1.0, 1.0, 1.0, 1.0, 1.0, 1.0, 1.0, 1.0, 1.0, 1.0, 1.0, 1.0, 1.0, 1.0, 1.0, 1.0, 1.0, 1.0, 1.0, 1.0, 1.0, 1.0, 1.0, 1.0, 1.0, 1.0, 1.0, 1.0, 1.0, 1.0, 1.0, 1.0, 1.0, 1.0, 1.0, 1.0, 1.0, 1.0, 1.0, 1.0, 1.0, 1.0, 1.0, 1.0, 1.0, 1.0, 1.0, 1.0, 1.0, 1.0, 1.0, 1.0, 1.0, 1.0, 1.0, 1.0, 1.0, 1.0, 1.0, 1.0, 1.0, 1.0, 1.0, 1.0, 1.0, 1.0, 1.0, 1.0, 1.0, 1.0, 1.0, 1.0, 1.0, 1.0, 1.0, 1.0, 1.0, 1.0, 1.0, 1.0, 1.0, 1.0, 1.0, 1.0, 1.0, 1.0, 1.0, 1.0, 1.0, 1.0, 1.0, 1.0, 1.0, 1.0, 1.0, 1.0, 1.0, 1.0, 1.0, 1.0, 1.0, 1.0, 1.0, 1.0, 1.0, 1.0, 1.0, 1.0, 1.0, 1.0]}\n"
          ],
          "name": "stdout"
        },
        {
          "output_type": "display_data",
          "data": {
            "image/png": "[encoded data removed]",
            "text/plain": [
              "<Figure size 432x288 with 1 Axes>"
            ]
          },
          "metadata": {
            "tags": []
          }
        },
        {
          "output_type": "display_data",
          "data": {
            "image/png": "[encoded data removed]",
            "text/plain": [
              "<Figure size 432x288 with 1 Axes>"
            ]
          },
          "metadata": {
            "tags": []
          }
        }
      ]
    },
    {
      "cell_type": "markdown",
      "metadata": {
        "id": "CNEpJMjPwj4K",
        "colab_type": "text"
      },
      "source": [
        "Execute a célula a seguir para calcular o custo e a exatidão para os dados de treinamento, validação e teste."
      ]
    },
    {
      "cell_type": "code",
      "metadata": {
        "id": "0_SLI3icwj4L",
        "colab_type": "code",
        "outputId": "5ea437f8-55e8-4dad-ccb7-7428c813344a",
        "colab": {
          "base_uri": "https://localhost:8080/",
          "height": 119
        }
      },
      "source": [
        "# Usando o método evaluate calcula o custo e a exatidão e depois apresenta os resultados\n",
        "custo_e_metricas_train = rna0.evaluate(X_train_flat, Y_train_hot)\n",
        "custo_e_metricas_val = rna0.evaluate(X_val_flat, Y_val_hot)\n",
        "custo_e_metricas_test = rna0.evaluate(X_test_flat, Y_test_hot)\n",
        "\n",
        "print(custo_e_metricas_train)\n",
        "print(custo_e_metricas_val)\n",
        "print(custo_e_metricas_test)"
      ],
      "execution_count": 0,
      "outputs": [
        {
          "output_type": "stream",
          "text": [
            "960/960 [==============================] - 0s 95us/step\n",
            "120/120 [==============================] - 0s 114us/step\n",
            "120/120 [==============================] - 0s 109us/step\n",
            "[0.008157358807511627, 1.0]\n",
            "[0.008024041137347619, 1.0]\n",
            "[8.109947204589844, 0.18333333233992258]\n"
          ],
          "name": "stdout"
        }
      ]
    },
    {
      "cell_type": "markdown",
      "metadata": {
        "id": "z2h5kf5wwj4M",
        "colab_type": "text"
      },
      "source": [
        "**Exemplo de saída esperada:**\n",
        "\n",
        "<dd>[0.00866352020141979, 1.0]<dd>[0.5716910809278488, 0.849999996026357]<dd>[0.41292793353398644, 0.8583333333333333]"
      ]
    },
    {
      "cell_type": "markdown",
      "metadata": {
        "id": "omMaTPctwj4N",
        "colab_type": "text"
      },
      "source": [
        "### Análise dos resultados\n",
        "\n",
        "Pelos gráficos da função de custo e da métrica você deve observar o seguinte:\n",
        "\n",
        "- O valor do custo para os dados de treinamento diminui constantemente ao longo do treinamento e estabiliza em um valor de cerca de 0,01.\n",
        "- O valor do custo para os dados de validação diminui até por volta da época 200 e depois aumenta levemente e estabiliza em um valor de cerca de 0,6, o que representa um resultado ruim.\n",
        "- A exatidão obtida para os dados de treinamento é de 100%, para os dados de validação e teste é de cerca de 85%.\n",
        "\n",
        "O grafico da função de custo durante o treinamento e os valores obtidos para a função de custo e para a métrica no final do treinamento mostram claramente que está ocorrendo overfitting dos dados de treinamento."
      ]
    },
    {
      "cell_type": "markdown",
      "metadata": {
        "id": "0SKtoBsswj4O",
        "colab_type": "text"
      },
      "source": [
        "## 4 - Dropout\n",
        "\n",
        "Como temos uma RNA que está realizando \"overfitting\", então vamos usar dropout para tentar reduzir o \"overfitting\" e obter uma RNA que apresenta bom desempenho para os dados de teste. \n",
        "\n",
        "### Exercício #6: Criação e configuração da RNA com \"dropout\"\n",
        "\n",
        "Crie a função build_model_Dp, modificando a sua função build_model para incluir o \"dropout\". \n",
        "\n",
        "Utilize novamente a mesma configuração da RNA, ou seja, 2 camadas intermediárias e uma camada de saída com as seguintes características:\n",
        "\n",
        "- Primeira camada: número de neurônios n1, função de ativação ReLu;\n",
        "- Segunda camada: número de neurônios n2, função de ativação ReLu;\n",
        "- Camada de saída: número de neurônio n3, função de ativação sigmóide;\n",
        "- Inclua \"dropout\" nas duas camadas intermediárias.\n",
        "\n",
        "Essa função deve receber como entrada a dimensão dos dados de entrada, os números de neurônios das 3 camadas, a fração dos neurônios da camada 1 que devem ser desligados e a fração de neurônios da camada 2 que devem ser desligados. "
      ]
    },
    {
      "cell_type": "code",
      "metadata": {
        "id": "u4FTht4Zwj4O",
        "colab_type": "code",
        "colab": {}
      },
      "source": [
        "# PARA VOCÊ FAZER: Função para configuração da RNA com \"dropout\"\n",
        "\n",
        "# Importa classes do Keras de modelos e camadas\n",
        "from keras import models\n",
        "from keras import layers\n",
        "from keras import regularizers\n",
        "from keras.constraints import maxnorm\n",
        "\n",
        "def build_model_Dp(data_shape, n1, n2, n3, fracao1, fracao2):\n",
        "    \"\"\"\n",
        "    Essa função configura uma rede neural deep-learnig\n",
        "    \n",
        "    Argumentos:\n",
        "    data_shape = tuple com dimensões dos dados de entrada da rede\n",
        "    n1 = número de neurônios da primeira camada\n",
        "    n2 = número de neurônios da segunda camada\n",
        "    n3 = número de neurônios da camada de saída\n",
        "    fracao1 = fração de neurônios desligados na camada 1\n",
        "    fracao2 = fração de neurônios desligados na camada 2\n",
        "       \n",
        "    Retorna: modelo da rede neural\n",
        "    \"\"\"\n",
        "    model = models.Sequential()\n",
        "    \n",
        "    # Adicione as camadas em seu modelo de RNA\n",
        "    #### COMECE AQUI ### (≈ 5 linhas)\n",
        "    model.add(layers.Dense(units=n1, activation='relu', input_shape=data_shape))\n",
        "    model.add(layers.Dropout(fracao1))\n",
        "    model.add(layers.Dense(units=n2, activation='relu', dropout=fracao1))\n",
        "    model.add(layers.Dropout(fracao2))\n",
        "    model.add(layers.Dense(units=n3, activation='sigmoid', dropout=fracao2))\n",
        "    ### TERMINE AQUI ###\n",
        "\n",
        "    return model"
      ],
      "execution_count": 0,
      "outputs": []
    },
    {
      "cell_type": "code",
      "metadata": {
        "id": "Mpz4p-zlwj4R",
        "colab_type": "code",
        "outputId": "527d1aad-0412-4147-ae17-f7dbbf3512f2",
        "colab": {
          "base_uri": "https://localhost:8080/",
          "height": 374
        }
      },
      "source": [
        "# PARA VOCÊ FAZER: criação e configuração da RNA com \"dropout\"\n",
        "\n",
        "# Reinicializa o gerador de números aleatórios\n",
        "np.random.seed(1)\n",
        "\n",
        "# Cria rede neural deep learning com regularizaçõa L2 e apresenta sua configuração\n",
        "#### COMECE AQUI ### (≈ 3 linhas)\n",
        "f1 = 0.2\n",
        "f2 = 0.2\n",
        "rnaDp = build_model_Dp(data_shape=(12288,), n1=64, n2=32, n3=6, fracao1=f1, fracao2=f2)\n",
        "### TERMINE AQUI ###\n",
        "rnaDp.summary()"
      ],
      "execution_count": 0,
      "outputs": [
        {
          "output_type": "error",
          "ename": "TypeError",
          "evalue": "ignored",
          "traceback": [
            "\u001b[0;31m---------------------------------------------------------------------------\u001b[0m",
            "\u001b[0;31mTypeError\u001b[0m                                 Traceback (most recent call last)",
            "\u001b[0;32m<ipython-input-22-68ecb987fff2>\u001b[0m in \u001b[0;36m<module>\u001b[0;34m()\u001b[0m\n\u001b[1;32m      5\u001b[0m \u001b[0mf1\u001b[0m \u001b[0;34m=\u001b[0m \u001b[0;36m0.2\u001b[0m\u001b[0;34m\u001b[0m\u001b[0;34m\u001b[0m\u001b[0m\n\u001b[1;32m      6\u001b[0m \u001b[0mf2\u001b[0m \u001b[0;34m=\u001b[0m \u001b[0;36m0.2\u001b[0m\u001b[0;34m\u001b[0m\u001b[0;34m\u001b[0m\u001b[0m\n\u001b[0;32m----> 7\u001b[0;31m \u001b[0mrnaDp\u001b[0m \u001b[0;34m=\u001b[0m \u001b[0mbuild_model_Dp\u001b[0m\u001b[0;34m(\u001b[0m\u001b[0mdata_shape\u001b[0m\u001b[0;34m=\u001b[0m\u001b[0;34m(\u001b[0m\u001b[0;36m12288\u001b[0m\u001b[0;34m,\u001b[0m\u001b[0;34m)\u001b[0m\u001b[0;34m,\u001b[0m \u001b[0mn1\u001b[0m\u001b[0;34m=\u001b[0m\u001b[0;36m64\u001b[0m\u001b[0;34m,\u001b[0m \u001b[0mn2\u001b[0m\u001b[0;34m=\u001b[0m\u001b[0;36m32\u001b[0m\u001b[0;34m,\u001b[0m \u001b[0mn3\u001b[0m\u001b[0;34m=\u001b[0m\u001b[0;36m6\u001b[0m\u001b[0;34m,\u001b[0m \u001b[0mfracao1\u001b[0m\u001b[0;34m=\u001b[0m\u001b[0mf1\u001b[0m\u001b[0;34m,\u001b[0m \u001b[0mfracao2\u001b[0m\u001b[0;34m=\u001b[0m\u001b[0mf2\u001b[0m\u001b[0;34m)\u001b[0m\u001b[0;34m\u001b[0m\u001b[0;34m\u001b[0m\u001b[0m\n\u001b[0m\u001b[1;32m      8\u001b[0m \u001b[0;31m### TERMINE AQUI ###\u001b[0m\u001b[0;34m\u001b[0m\u001b[0;34m\u001b[0m\u001b[0;34m\u001b[0m\u001b[0m\n\u001b[1;32m      9\u001b[0m \u001b[0mrnaDp\u001b[0m\u001b[0;34m.\u001b[0m\u001b[0msummary\u001b[0m\u001b[0;34m(\u001b[0m\u001b[0;34m)\u001b[0m\u001b[0;34m\u001b[0m\u001b[0;34m\u001b[0m\u001b[0m\n",
            "\u001b[0;32m<ipython-input-21-c55680b45f4f>\u001b[0m in \u001b[0;36mbuild_model_Dp\u001b[0;34m(data_shape, n1, n2, n3, fracao1, fracao2)\u001b[0m\n\u001b[1;32m     24\u001b[0m     \u001b[0mmodel\u001b[0m\u001b[0;34m.\u001b[0m\u001b[0madd\u001b[0m\u001b[0;34m(\u001b[0m\u001b[0mlayers\u001b[0m\u001b[0;34m.\u001b[0m\u001b[0mDense\u001b[0m\u001b[0;34m(\u001b[0m\u001b[0munits\u001b[0m\u001b[0;34m=\u001b[0m\u001b[0mn1\u001b[0m\u001b[0;34m,\u001b[0m \u001b[0mactivation\u001b[0m\u001b[0;34m=\u001b[0m\u001b[0;34m'relu'\u001b[0m\u001b[0;34m,\u001b[0m \u001b[0minput_shape\u001b[0m\u001b[0;34m=\u001b[0m\u001b[0mdata_shape\u001b[0m\u001b[0;34m)\u001b[0m\u001b[0;34m)\u001b[0m\u001b[0;34m\u001b[0m\u001b[0;34m\u001b[0m\u001b[0m\n\u001b[1;32m     25\u001b[0m     \u001b[0mmodel\u001b[0m\u001b[0;34m.\u001b[0m\u001b[0madd\u001b[0m\u001b[0;34m(\u001b[0m\u001b[0mlayers\u001b[0m\u001b[0;34m.\u001b[0m\u001b[0mDropout\u001b[0m\u001b[0;34m(\u001b[0m\u001b[0mfracao1\u001b[0m\u001b[0;34m)\u001b[0m\u001b[0;34m)\u001b[0m\u001b[0;34m\u001b[0m\u001b[0;34m\u001b[0m\u001b[0m\n\u001b[0;32m---> 26\u001b[0;31m     \u001b[0mmodel\u001b[0m\u001b[0;34m.\u001b[0m\u001b[0madd\u001b[0m\u001b[0;34m(\u001b[0m\u001b[0mlayers\u001b[0m\u001b[0;34m.\u001b[0m\u001b[0mDense\u001b[0m\u001b[0;34m(\u001b[0m\u001b[0munits\u001b[0m\u001b[0;34m=\u001b[0m\u001b[0mn2\u001b[0m\u001b[0;34m,\u001b[0m \u001b[0mactivation\u001b[0m\u001b[0;34m=\u001b[0m\u001b[0;34m'relu'\u001b[0m\u001b[0;34m,\u001b[0m \u001b[0mdropout\u001b[0m\u001b[0;34m=\u001b[0m\u001b[0mfracao1\u001b[0m\u001b[0;34m)\u001b[0m\u001b[0;34m)\u001b[0m\u001b[0;34m\u001b[0m\u001b[0;34m\u001b[0m\u001b[0m\n\u001b[0m\u001b[1;32m     27\u001b[0m     \u001b[0mmodel\u001b[0m\u001b[0;34m.\u001b[0m\u001b[0madd\u001b[0m\u001b[0;34m(\u001b[0m\u001b[0mlayers\u001b[0m\u001b[0;34m.\u001b[0m\u001b[0mDropout\u001b[0m\u001b[0;34m(\u001b[0m\u001b[0mfracao2\u001b[0m\u001b[0;34m)\u001b[0m\u001b[0;34m)\u001b[0m\u001b[0;34m\u001b[0m\u001b[0;34m\u001b[0m\u001b[0m\n\u001b[1;32m     28\u001b[0m     \u001b[0mmodel\u001b[0m\u001b[0;34m.\u001b[0m\u001b[0madd\u001b[0m\u001b[0;34m(\u001b[0m\u001b[0mlayers\u001b[0m\u001b[0;34m.\u001b[0m\u001b[0mDense\u001b[0m\u001b[0;34m(\u001b[0m\u001b[0munits\u001b[0m\u001b[0;34m=\u001b[0m\u001b[0mn3\u001b[0m\u001b[0;34m,\u001b[0m \u001b[0mactivation\u001b[0m\u001b[0;34m=\u001b[0m\u001b[0;34m'sigmoid'\u001b[0m\u001b[0;34m,\u001b[0m \u001b[0mdropout\u001b[0m\u001b[0;34m=\u001b[0m\u001b[0mfracao2\u001b[0m\u001b[0;34m)\u001b[0m\u001b[0;34m)\u001b[0m\u001b[0;34m\u001b[0m\u001b[0;34m\u001b[0m\u001b[0m\n",
            "\u001b[0;32m/usr/local/lib/python3.6/dist-packages/keras/legacy/interfaces.py\u001b[0m in \u001b[0;36mwrapper\u001b[0;34m(*args, **kwargs)\u001b[0m\n\u001b[1;32m     89\u001b[0m                 warnings.warn('Update your `' + object_name + '` call to the ' +\n\u001b[1;32m     90\u001b[0m                               'Keras 2 API: ' + signature, stacklevel=2)\n\u001b[0;32m---> 91\u001b[0;31m             \u001b[0;32mreturn\u001b[0m \u001b[0mfunc\u001b[0m\u001b[0;34m(\u001b[0m\u001b[0;34m*\u001b[0m\u001b[0margs\u001b[0m\u001b[0;34m,\u001b[0m \u001b[0;34m**\u001b[0m\u001b[0mkwargs\u001b[0m\u001b[0;34m)\u001b[0m\u001b[0;34m\u001b[0m\u001b[0;34m\u001b[0m\u001b[0m\n\u001b[0m\u001b[1;32m     92\u001b[0m         \u001b[0mwrapper\u001b[0m\u001b[0;34m.\u001b[0m\u001b[0m_original_function\u001b[0m \u001b[0;34m=\u001b[0m \u001b[0mfunc\u001b[0m\u001b[0;34m\u001b[0m\u001b[0;34m\u001b[0m\u001b[0m\n\u001b[1;32m     93\u001b[0m         \u001b[0;32mreturn\u001b[0m \u001b[0mwrapper\u001b[0m\u001b[0;34m\u001b[0m\u001b[0;34m\u001b[0m\u001b[0m\n",
            "\u001b[0;32m/usr/local/lib/python3.6/dist-packages/keras/layers/core.py\u001b[0m in \u001b[0;36m__init__\u001b[0;34m(self, units, activation, use_bias, kernel_initializer, bias_initializer, kernel_regularizer, bias_regularizer, activity_regularizer, kernel_constraint, bias_constraint, **kwargs)\u001b[0m\n\u001b[1;32m    871\u001b[0m         \u001b[0;32mif\u001b[0m \u001b[0;34m'input_shape'\u001b[0m \u001b[0;32mnot\u001b[0m \u001b[0;32min\u001b[0m \u001b[0mkwargs\u001b[0m \u001b[0;32mand\u001b[0m \u001b[0;34m'input_dim'\u001b[0m \u001b[0;32min\u001b[0m \u001b[0mkwargs\u001b[0m\u001b[0;34m:\u001b[0m\u001b[0;34m\u001b[0m\u001b[0;34m\u001b[0m\u001b[0m\n\u001b[1;32m    872\u001b[0m             \u001b[0mkwargs\u001b[0m\u001b[0;34m[\u001b[0m\u001b[0;34m'input_shape'\u001b[0m\u001b[0;34m]\u001b[0m \u001b[0;34m=\u001b[0m \u001b[0;34m(\u001b[0m\u001b[0mkwargs\u001b[0m\u001b[0;34m.\u001b[0m\u001b[0mpop\u001b[0m\u001b[0;34m(\u001b[0m\u001b[0;34m'input_dim'\u001b[0m\u001b[0;34m)\u001b[0m\u001b[0;34m,\u001b[0m\u001b[0;34m)\u001b[0m\u001b[0;34m\u001b[0m\u001b[0;34m\u001b[0m\u001b[0m\n\u001b[0;32m--> 873\u001b[0;31m         \u001b[0msuper\u001b[0m\u001b[0;34m(\u001b[0m\u001b[0mDense\u001b[0m\u001b[0;34m,\u001b[0m \u001b[0mself\u001b[0m\u001b[0;34m)\u001b[0m\u001b[0;34m.\u001b[0m\u001b[0m__init__\u001b[0m\u001b[0;34m(\u001b[0m\u001b[0;34m**\u001b[0m\u001b[0mkwargs\u001b[0m\u001b[0;34m)\u001b[0m\u001b[0;34m\u001b[0m\u001b[0;34m\u001b[0m\u001b[0m\n\u001b[0m\u001b[1;32m    874\u001b[0m         \u001b[0mself\u001b[0m\u001b[0;34m.\u001b[0m\u001b[0munits\u001b[0m \u001b[0;34m=\u001b[0m \u001b[0munits\u001b[0m\u001b[0;34m\u001b[0m\u001b[0;34m\u001b[0m\u001b[0m\n\u001b[1;32m    875\u001b[0m         \u001b[0mself\u001b[0m\u001b[0;34m.\u001b[0m\u001b[0mactivation\u001b[0m \u001b[0;34m=\u001b[0m \u001b[0mactivations\u001b[0m\u001b[0;34m.\u001b[0m\u001b[0mget\u001b[0m\u001b[0;34m(\u001b[0m\u001b[0mactivation\u001b[0m\u001b[0;34m)\u001b[0m\u001b[0;34m\u001b[0m\u001b[0;34m\u001b[0m\u001b[0m\n",
            "\u001b[0;32m/usr/local/lib/python3.6/dist-packages/keras/engine/base_layer.py\u001b[0m in \u001b[0;36m__init__\u001b[0;34m(self, **kwargs)\u001b[0m\n\u001b[1;32m    126\u001b[0m         \u001b[0;32mfor\u001b[0m \u001b[0mkwarg\u001b[0m \u001b[0;32min\u001b[0m \u001b[0mkwargs\u001b[0m\u001b[0;34m:\u001b[0m\u001b[0;34m\u001b[0m\u001b[0;34m\u001b[0m\u001b[0m\n\u001b[1;32m    127\u001b[0m             \u001b[0;32mif\u001b[0m \u001b[0mkwarg\u001b[0m \u001b[0;32mnot\u001b[0m \u001b[0;32min\u001b[0m \u001b[0mallowed_kwargs\u001b[0m\u001b[0;34m:\u001b[0m\u001b[0;34m\u001b[0m\u001b[0;34m\u001b[0m\u001b[0m\n\u001b[0;32m--> 128\u001b[0;31m                 \u001b[0;32mraise\u001b[0m \u001b[0mTypeError\u001b[0m\u001b[0;34m(\u001b[0m\u001b[0;34m'Keyword argument not understood:'\u001b[0m\u001b[0;34m,\u001b[0m \u001b[0mkwarg\u001b[0m\u001b[0;34m)\u001b[0m\u001b[0;34m\u001b[0m\u001b[0;34m\u001b[0m\u001b[0m\n\u001b[0m\u001b[1;32m    129\u001b[0m         \u001b[0mname\u001b[0m \u001b[0;34m=\u001b[0m \u001b[0mkwargs\u001b[0m\u001b[0;34m.\u001b[0m\u001b[0mget\u001b[0m\u001b[0;34m(\u001b[0m\u001b[0;34m'name'\u001b[0m\u001b[0;34m)\u001b[0m\u001b[0;34m\u001b[0m\u001b[0;34m\u001b[0m\u001b[0m\n\u001b[1;32m    130\u001b[0m         \u001b[0;32mif\u001b[0m \u001b[0;32mnot\u001b[0m \u001b[0mname\u001b[0m\u001b[0;34m:\u001b[0m\u001b[0;34m\u001b[0m\u001b[0;34m\u001b[0m\u001b[0m\n",
            "\u001b[0;31mTypeError\u001b[0m: ('Keyword argument not understood:', 'dropout')"
          ]
        }
      ]
    },
    {
      "cell_type": "markdown",
      "metadata": {
        "id": "x5s6Ym2Gwj4U",
        "colab_type": "text"
      },
      "source": [
        "**Saída esperada:**\n",
        "\n",
        "<dd>Layer (type) Output Shape Param #<dd>==============================================================<dd>dense_4 (Dense) None, 64) 786496<dd>dropout_1 (Dropout) (None, 64) 0<dd>dense_5 (Dense) (None, 32) 2080<dd>dropout_2 (Dropout) (None, 32)  0<dd>dense_6 (Dense) (None, 6) 198<dd>==============================================================<dd>Total params: 788,774<dd>Trainable params: 788,774<dd>Non-trainable params: 0\n",
        "   "
      ]
    },
    {
      "cell_type": "markdown",
      "metadata": {
        "id": "fffniUVOwj4U",
        "colab_type": "text"
      },
      "source": [
        "### Exercício #7: compilação e treinamento da RNA com \"dropout\"\n",
        "\n",
        "Agora você vai treinar a sua RNA com \"dropout\" da mesma forma que foi feita para a RNA anterior. Assim, na célula abaixo, compile e treine a sua RNA. Use os seguintes parâmetros para a sua RNA:\n",
        "\n",
        "- Método de otimização: gradiente descendente com momento;\n",
        "- Fração de neurônios desligados na camada 1 = valor entre 0,1 e 0,5;\n",
        "- Fração de neurônios desligados na camada 2 = valor entre 0 e 0,2;\n",
        "- taxa de aprendizado = 0,001\n",
        "- constante beta = 0,9;\n",
        "- decay = 0;\n",
        "- nesterov = True\n",
        "- batch_size = 120;\n",
        "- número de épocas = 600.\n",
        "\n",
        "Teste alguns valores para as frações de desligamento dos neurônios das duas camadas intermediárias até você obter uma métrica para os dados de teste da mesma ordem da métrica dos dados de treinamento.\n",
        "\n",
        "**Importante:** Escolha o parâmetro verbose=0 no método fit para evitar de imprimir os resultados das 30.000 épocas de treinamento."
      ]
    },
    {
      "cell_type": "code",
      "metadata": {
        "id": "drVnbrcLwj4V",
        "colab_type": "code",
        "colab": {}
      },
      "source": [
        "# PARA VOCÊ FAZER: compilação e treinamento da RNA usando o método do gradiente descendente com momento\n",
        "\n",
        "# importa do keras a classe dos otimizadores\n",
        "from keras import optimizers\n",
        "\n",
        "# Configuração do otomizador\n",
        "### COMECE AQUI ### (≈ 2 linhas)\n",
        "mom = optimizers.SGD(lr=0.001, momentum=0.9, decay=0.0, nesterov=True)\n",
        "rnaDp.compile(loss='categorical_crossentropy', metrics=['accuracy'], optimizer=mom)\n",
        "### TERMINE AQUI ###\n",
        "\n",
        "# Treinamento da RNA\n",
        "### COMECE AQUI ### (≈ 1 linha)\n",
        "historyDp = rnaDp.fit(X_train_flat, Y_train_hot, epochs=600, verbose=0, batch_size=120, validation_data=(X_val_flat, Y_val_hot))\n",
        "### TERMINE AQUI ###"
      ],
      "execution_count": 0,
      "outputs": []
    },
    {
      "cell_type": "markdown",
      "metadata": {
        "id": "7tr4LIutwj4W",
        "colab_type": "text"
      },
      "source": [
        "### Visualização dos resultados\n",
        "\n",
        "Execute a célula a seguir para fazer os gráficos da função de custo e da métrica para os dados de treinamento e validação."
      ]
    },
    {
      "cell_type": "code",
      "metadata": {
        "id": "T_WSLyZLwj4X",
        "colab_type": "code",
        "colab": {}
      },
      "source": [
        "# Salva treinamento na variável history para visualização\n",
        "history_dictDp = historyDp.history\n",
        "\n",
        "# Salva custos, métricas e epocas em vetores \n",
        "custoDp = history_dictDp['loss']\n",
        "accDp = history_dictDp['acc']\n",
        "val_custoDp = history_dictDp['val_loss']\n",
        "val_accDp = history_dictDp['val_acc']\n",
        "\n",
        "# Cria vetor de épocas\n",
        "epocasDp = range(1, len(custoDp) + 1)\n",
        "\n",
        "# Gráfico dos valores de custo\n",
        "plt.plot(epocasDp, custoDp, 'bo', label='Custo - treinamento')\n",
        "plt.plot(epocasDp, val_custoDp, 'b', label='Custo - validação')\n",
        "plt.title('Valor da função de custo – treinamento e validação')\n",
        "plt.xlabel('Épocas')\n",
        "plt.ylabel('Custo')\n",
        "plt.legend()\n",
        "plt.show()\n",
        "\n",
        "# Gráfico dos valores da métrica\n",
        "plt.plot(epocasDp, accDp, 'bo', label='Exatidao- treinamento')\n",
        "plt.plot(epocasDp, val_accDp, 'b', label='Exatidao - validação')\n",
        "plt.title('Valor da métrica – treinamento e validação')\n",
        "plt.xlabel('Exatidao')\n",
        "plt.legend()\n",
        "plt.show()"
      ],
      "execution_count": 0,
      "outputs": []
    },
    {
      "cell_type": "markdown",
      "metadata": {
        "id": "BfQV9-izwj4Z",
        "colab_type": "text"
      },
      "source": [
        "Execute a célula a seguir para calcular o custo e a exatidão pra os dados de treinamento, validação e teste."
      ]
    },
    {
      "cell_type": "code",
      "metadata": {
        "id": "gWCggyeOwj4b",
        "colab_type": "code",
        "colab": {}
      },
      "source": [
        "# Usando o método evaluate calcula o custo e a exatidão e depois apresenta os resultados\n",
        "custo_e_metricas_trainDp = rnaDp.evaluate(X_train_flat, Y_train_hot)\n",
        "custo_e_metricas_valDp = rnaDp.evaluate(X_val_flat, Y_val_hot)\n",
        "custo_e_metricas_testDp = rnaDp.evaluate(X_test_flat, Y_test_hot)\n",
        "\n",
        "print(custo_e_metricas_trainDp)\n",
        "print(custo_e_metricas_valDp)\n",
        "print(custo_e_metricas_testDp)"
      ],
      "execution_count": 0,
      "outputs": []
    },
    {
      "cell_type": "markdown",
      "metadata": {
        "id": "jVN_lctrwj4d",
        "colab_type": "text"
      },
      "source": [
        "**Exemplo de saída esperada:**\n",
        "\n",
        "<dd>[0.016283914974580208, 1.0]<dd>[0.40387439529101055, 0.899999996026357]<dd>[0.34507068395614626, 0.900000003973643]"
      ]
    },
    {
      "cell_type": "markdown",
      "metadata": {
        "id": "KiZEQghHwj4d",
        "colab_type": "text"
      },
      "source": [
        "### Análise dos resultados\n",
        "\n",
        "Pelos gráficos da função de custo e da métrica você deve observar o seguinte:\n",
        "\n",
        "- O valor do custo para os dados de treinamento e de validação apresentam agora um comportamento semelhante, sendo que ambos caem durante o treinamento, mas o custo dos dados de validação diminui menos do que o dos dados de treinamento.\n",
        "- A exatidão obtida para os dados de treinamento é de cerca de 100%, para os dados de validação e de teste é de cerca de 90%.\n",
        "\n",
        "Observa-se que o problema de \"overfitting\" está minimizado e a exatidão dos dados de teste apresenta um resultado melhor do que no caso da RNA sem dropout."
      ]
    },
    {
      "cell_type": "markdown",
      "metadata": {
        "id": "qwSZJQ8Owj4e",
        "colab_type": "text"
      },
      "source": [
        "### Exercício #8: Verificação dos resultados\n",
        "\n",
        "Na célula abaixo calcule a previsões da sua RNA com dropout para as imagens dos dados de teste e depois verifique se algumas dessas previsões estão corretas. \n",
        "\n",
        "Note que a previsão da RNA é um vetor de 6 elementos com as probabilidades da imagem mostrar os seis sinais. Para detereminar a classe prevista deve-se transformar esse vetor em um número inteiro de 0 a 5, que representa o sinal sendo mostrado. Para fazer essa transformação use a função numpy argmax(Y_test, axis=?), onde Y_test é o tensor com as saídas previstas pela RNA. Em qual eixo você deve calcular o índice da maior probabilidade?\n",
        "\n",
        "Troque a variável index (variando entre 0 e 119) para verificar se a sua RNA consegue classificar corretamente o sinal de mão mostrado nas imagens."
      ]
    },
    {
      "cell_type": "code",
      "metadata": {
        "id": "2cUoQQvjwj4e",
        "colab_type": "code",
        "colab": {}
      },
      "source": [
        "# PARA VOCÊ FAZER: cálculo das classes previstas pela RNA com dropout\n",
        "\n",
        "# Calculo das previsões da RNA\n",
        "### COMECE AQUI ### (≈ 1 linha)\n",
        "Y_test = Y_test_hot\n",
        "### TERMINE AQUI ###\n",
        "\n",
        "# Cálculo das classes previstas\n",
        "### COMECE AQUI ### (≈ 1 linha)\n",
        "classe = np.argmax(Y_test, axis=1)\n",
        "### TERMINE AQUI ###\n",
        "\n",
        "# Exemplo de uma imagem dos dados de teste\n",
        "index = 51\n",
        "plt.imshow(X_test_orig[index])\n",
        "print (\"y = \" + str(np.squeeze(classe[index])))"
      ],
      "execution_count": 0,
      "outputs": []
    },
    {
      "cell_type": "markdown",
      "metadata": {
        "id": "Z2BerH7Fwj4f",
        "colab_type": "text"
      },
      "source": [
        "**Saída esperada:**\n",
        "\n",
        "y = 1\n",
        "\n",
        "<img src=\"Teste.png\">"
      ]
    },
    {
      "cell_type": "markdown",
      "metadata": {
        "id": "U7uLXfI_wj4g",
        "colab_type": "text"
      },
      "source": [
        "## 9 - Conclusão\n",
        "\n",
        "**Em resumo os resultados esperados para sua RNA são:**\n",
        "\n",
        "<table> \n",
        "    <tr>\n",
        "        <td>\n",
        "        RNA\n",
        "        </td>\n",
        "        <td>\n",
        "        Exatidão dos dados de treinamento\n",
        "        </td>\n",
        "        <td>\n",
        "        Exatidão dos dados de validação\n",
        "        </td>\n",
        "        <td>\n",
        "        Exatidão dos dados de testes\n",
        "        </td>\n",
        "\n",
        "   </tr>\n",
        "        <td>\n",
        "        RNA base\n",
        "        </td>\n",
        "        <td>\n",
        "        100%\n",
        "        </td>\n",
        "        <td>\n",
        "        85%\n",
        "        </td>\n",
        "        <td>\n",
        "        85%\n",
        "        </td>\n",
        "    <tr>\n",
        "        <td>\n",
        "        RNA com dropout\n",
        "        </td>\n",
        "        <td>\n",
        "        100%\n",
        "        </td>\n",
        "        <td>\n",
        "        90%\n",
        "        </td>\n",
        "        <td>\n",
        "        90%\n",
        "        </td>\n",
        "    </tr>\n",
        "</table> \n",
        "\n",
        "Uma das conclusões desse trabalho é a mesma do Trabalho #5 de regularização, ou seja, dropout minimiza problemas de overfitting permitindo obter um melhor desempenho da RNA nos dados de teste. Mas como você deve ter percebido, ajustar as frações de desligamento do dropout até obter um desempenho satisfatório com os dados de teste não é uma tarefa fácil.\n",
        "\n",
        "Outra conclusão é que essa RNA com camadas densas possui quase 800.000 parâmetros para realizar uma tarefa simples de classificação de múltiplas classes em imagens. Esse número de parâmetros é muito grande para essa tarefa que não é muito complexa. Se tivéssemos usado imagens com dimensões maiores o número de paâmetros seria muito maior. Além disso, observa-se que quanto maior o número de parâmetros de uma RNA mais difícil é o seu treinamento e maiores são os problemas de overfitting"
      ]
    }
  ]
}